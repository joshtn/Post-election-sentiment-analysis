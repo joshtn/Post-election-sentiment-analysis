{
 "cells": [
  {
   "cell_type": "code",
   "execution_count": 2,
   "metadata": {
    "collapsed": true
   },
   "outputs": [
    {
     "name": "stdout",
     "output_type": "stream",
     "text": [
      "Collecting tweepy\n",
      "  Using cached tweepy-3.9.0-py2.py3-none-any.whl (30 kB)\n",
      "Collecting requests-oauthlib>=0.7.0\n",
      "  Using cached requests_oauthlib-1.3.0-py2.py3-none-any.whl (23 kB)\n",
      "Requirement already satisfied: requests[socks]>=2.11.1 in /Users/joshtan/Library/Python/3.8/lib/python/site-packages (from tweepy) (2.21.0)\n",
      "Requirement already satisfied: six>=1.10.0 in /usr/local/lib/python3.8/site-packages (from tweepy) (1.15.0)\n",
      "Collecting oauthlib>=3.0.0\n",
      "  Using cached oauthlib-3.1.0-py2.py3-none-any.whl (147 kB)\n",
      "Requirement already satisfied: idna<2.9,>=2.5 in /Users/joshtan/Library/Python/3.8/lib/python/site-packages (from requests[socks]>=2.11.1->tweepy) (2.8)\n",
      "Requirement already satisfied: certifi>=2017.4.17 in /usr/local/lib/python3.8/site-packages (from requests[socks]>=2.11.1->tweepy) (2020.6.20)\n",
      "Requirement already satisfied: urllib3<1.25,>=1.21.1 in /Users/joshtan/Library/Python/3.8/lib/python/site-packages (from requests[socks]>=2.11.1->tweepy) (1.24.3)\n",
      "Requirement already satisfied: chardet<3.1.0,>=3.0.2 in /usr/local/lib/python3.8/site-packages (from requests[socks]>=2.11.1->tweepy) (3.0.4)\n",
      "Collecting PySocks!=1.5.7,>=1.5.6; extra == \"socks\"\n",
      "  Using cached PySocks-1.7.1-py3-none-any.whl (16 kB)\n",
      "Installing collected packages: oauthlib, requests-oauthlib, tweepy, PySocks\n",
      "Successfully installed PySocks-1.7.1 oauthlib-3.1.0 requests-oauthlib-1.3.0 tweepy-3.9.0\n",
      "Note: you may need to restart the kernel to use updated packages.\n"
     ]
    }
   ],
   "source": [
    "pip install tweepy"
   ]
  },
  {
   "cell_type": "code",
   "execution_count": 1,
   "metadata": {},
   "outputs": [],
   "source": [
    "# make readme explain what sentiment analysis is \n",
    "import tweepy as tw\n",
    "import numpy as np\n",
    "import pandas as pd\n",
    "from matplotlib import pyplot as plt\n",
    "import os"
   ]
  },
  {
   "cell_type": "markdown",
   "metadata": {},
   "source": [
    "## Authenticate to Twitter"
   ]
  },
  {
   "cell_type": "code",
   "execution_count": 4,
   "metadata": {},
   "outputs": [],
   "source": [
    "consumer_key = os.environ.get('TWTR_API_KEY')\n",
    "consumer_secret = os.environ.get('TWTR_SECRET_KEY')\n",
    "access_token = os.environ.get('TWTR_ACC_TOKEN')\n",
    "access_token_secret = os.environ.get('TWTR_ACC_TOKEN_SECRET')"
   ]
  },
  {
   "cell_type": "code",
   "execution_count": 5,
   "metadata": {},
   "outputs": [],
   "source": [
    "# Authenticate\n",
    "auth = tw.OAuthHandler(consumer_key, consumer_secret)\n",
    "auth.set_access_token(access_token, access_token_secret)\n",
    "api = tw.API(auth, wait_on_rate_limit=True)"
   ]
  },
  {
   "cell_type": "markdown",
   "metadata": {},
   "source": [
    "## Get Tweets"
   ]
  },
  {
   "cell_type": "code",
   "execution_count": 47,
   "metadata": {
    "collapsed": true
   },
   "outputs": [
    {
     "name": "stdout",
     "output_type": "stream",
     "text": [
      "[{'Tweets': 'RT @RealButterShow: Run Zombie RUN! The Buttercast kicks off #Halloween2020 with the Top 5 FAST #ZOMBIE MOVIES, a #PresidentialDebate, &amp; hi…', 'Timestamp': datetime.datetime(2020, 11, 11, 19, 46, 53)}, {'Tweets': 'Not all the ballots have been counted and there are still cases to be heard in court. #2020election #ChrisWallace… https://t.co/JtP3jniEYt', 'Timestamp': datetime.datetime(2020, 11, 11, 18, 12, 3)}, {'Tweets': 'You Specifically Said in the 1st #PresidentialDebate @realDonaldTrump “Military all setup,Logistically all setup, w… https://t.co/USiY6LncaD', 'Timestamp': datetime.datetime(2020, 11, 11, 15, 11, 12)}, {'Tweets': '&amp; what did u said during the #PresidentialDebate @realDonaldTrump ?? @JoeBiden @KamalaHarris @VP @BarackObama… https://t.co/GmL2Wm6WU1', 'Timestamp': datetime.datetime(2020, 11, 11, 12, 3, 11)}, {'Tweets': 'RT @Matt_VanDyke: I heard great things about #KristenWelker when I was dating her cousin a few years ago, but last night I saw for myself t…', 'Timestamp': datetime.datetime(2020, 11, 11, 11, 25, 44)}, {'Tweets': 'RT @nbctracie: What’s it like being poor in Trump or Biden’s America? Is there any difference? Join me at 7:30pET before tonight’s #Preside…', 'Timestamp': datetime.datetime(2020, 11, 11, 11, 22, 1)}, {'Tweets': 'RT @TheAffinityMag: Biden and Trump fighting over who wants to destroy the environment more \\n#PresidentialDebate https://t.co/fnt0llNkbw', 'Timestamp': datetime.datetime(2020, 11, 11, 6, 35, 49)}, {'Tweets': '#PresidentialDebate https://t.co/QMaCebdD5T', 'Timestamp': datetime.datetime(2020, 11, 11, 4, 52, 44)}, {'Tweets': 'RT @scripta_bene: Yesterday in 1931, Al Capone was sentenced to prison for tax evasion. Here’s a cartoon callback on the subject:\\n\\n#Debates…', 'Timestamp': datetime.datetime(2020, 11, 11, 4, 22, 1)}, {'Tweets': \"RT @JonahBlank: An hour until the #PresidentialDebate.\\n\\nWhen I was on #Biden staff, this is when I'd be preparing the pre-game dose of anab…\", 'Timestamp': datetime.datetime(2020, 11, 11, 3, 18, 20)}, {'Tweets': 'Si vous deviez choisir vous souhaité voir qui président entre @JoeBiden et @KamalaHarris ?? @realDonaldTrump @CNN… https://t.co/PFObz8siD0', 'Timestamp': datetime.datetime(2020, 11, 10, 23, 12, 37)}, {'Tweets': 'RT @Inthehighest1: @MSNBC @maddow @NicolleDWallace @JoyAnnReid @BWilliams #rp aka #mj #PresidentialDebate  \\n\\n#MSNBCDecision2020\\n\\n https://t…', 'Timestamp': datetime.datetime(2020, 11, 10, 22, 15, 11)}, {'Tweets': \"Did y'all ever wonder or notice that for the presidential debate even though their is more than 2 parties they only… https://t.co/Mt7tJA9UhL\", 'Timestamp': datetime.datetime(2020, 11, 10, 22, 13, 53)}, {'Tweets': '#cursed #bill #presidentialdebate \\nhttps://t.co/twDk7YBYS6\\n#iFunny https://t.co/HdYDRb0qTM', 'Timestamp': datetime.datetime(2020, 11, 10, 20, 31, 14)}, {'Tweets': 'RT @EgyptianMilk: Chris Wallace is now screaming at Trump. He is the referee trying to keep Trump from beating Biden to death... because he…', 'Timestamp': datetime.datetime(2020, 11, 10, 20, 7, 9)}, {'Tweets': \"RT @DrGJackBrown: Trump's Pupils are dilated to 6.5 mm in his right eye and 6.0 mm in his left eye. This fits Trump's pattern of long-term,…\", 'Timestamp': datetime.datetime(2020, 11, 10, 17, 33, 27)}, {'Tweets': 'RT @dylanminnette: everyone, @realDonaldTrump just refused to condemn white supremacists on live television. he literally refused to say it…', 'Timestamp': datetime.datetime(2020, 11, 10, 16, 16, 47)}, {'Tweets': 'RT @NathanWyburnArt: My @JoeBiden portrait created by stamping the word VOTE! 🇺🇸 \\n\\n#Biden #BidenHarris2020 \\n#Biden2020 #usa🇺🇸 #American #PO…', 'Timestamp': datetime.datetime(2020, 11, 10, 15, 58, 41)}, {'Tweets': 'RT @MacroInvestor09: Watching the President talk about wind TURBINES and solar is mind numbing. \\n\\nNeither of these guys know anything about…', 'Timestamp': datetime.datetime(2020, 11, 10, 13, 45, 37)}, {'Tweets': 'RT @UniNoticias: 🔰 \"¿Quieres callarte, hombre?\", @JoeBiden pide a @realDonaldTrump que se calle en medio de un intercambio. \\n\\nEl momento se…', 'Timestamp': datetime.datetime(2020, 11, 10, 13, 40, 17)}, {'Tweets': \"RT @DrGJackBrown: Trump's Pupils are dilated to 6.5 mm in his right eye and 6.0 mm in his left eye. This fits Trump's pattern of long-term,…\", 'Timestamp': datetime.datetime(2020, 11, 10, 13, 5, 48)}, {'Tweets': 'RT @WSjp_insight: Final(2nd)US🇺🇸#PresidentialDebate 10/22/2020 BelmontUniv #debate,#Debates2020 \\nhttps://t.co/IxTYG359i2\\nnewsmax MotherJone…', 'Timestamp': datetime.datetime(2020, 11, 10, 7, 34, 43)}, {'Tweets': 'RT @nlittletaylor: 328.2 million people in America, and these are two that we have narrowed it down to that can best represent us as a whol…', 'Timestamp': datetime.datetime(2020, 11, 10, 6, 51, 56)}, {'Tweets': 'RT @CaptJeanLPicard: Hahaha and that my dear Data is why I am glad we don’t live in the 21st Century. #PresidentialDebate https://t.co/Qn7q…', 'Timestamp': datetime.datetime(2020, 11, 10, 4, 4, 25)}, {'Tweets': \"RT @DrGJackBrown: Trump's Pupils are dilated to 6.5 mm in his right eye and 6.0 mm in his left eye. This fits Trump's pattern of long-term,…\", 'Timestamp': datetime.datetime(2020, 11, 9, 23, 56, 45)}, {'Tweets': \"RT @DrGJackBrown: Trump's Pupils are dilated to 6.5 mm in his right eye and 6.0 mm in his left eye. This fits Trump's pattern of long-term,…\", 'Timestamp': datetime.datetime(2020, 11, 9, 23, 55, 26)}, {'Tweets': 'Go check out my first YouTube video ever because zero dollars to support my dreams!! #new #youtube #2020… https://t.co/voJlVxAXri', 'Timestamp': datetime.datetime(2020, 11, 9, 23, 12, 7)}, {'Tweets': 'RT @WacoOGuin: #PresidentialDebate #bigballenergy https://t.co/TRraR899Rb', 'Timestamp': datetime.datetime(2020, 11, 9, 22, 29, 37)}, {'Tweets': \"RT @abc7newsbayarea: Pres. Trump addresses a #COVID19 vaccine in first #PresidentialDebate question: “We have a vaccine that's coming. It's…\", 'Timestamp': datetime.datetime(2020, 11, 9, 21, 24, 34)}, {'Tweets': 'Looks like the “DARK WINTER” #JoeBiden referred to during the last #PresidentialDebate &amp; then again today, it has a… https://t.co/TMJMLh442m', 'Timestamp': datetime.datetime(2020, 11, 9, 19, 31, 22)}, {'Tweets': 'RT @dylanminnette: hey trump supporters, how does it feel to support a literal fucking toddler? i’m so embarrassed for you. #PresidentialDe…', 'Timestamp': datetime.datetime(2020, 11, 9, 19, 7, 42)}, {'Tweets': 'RT @TalbertSwan: Retweet if you paid more than $750 in taxes\\n\\n#PresidentialDebate \\n#Debate', 'Timestamp': datetime.datetime(2020, 11, 9, 18, 10, 39)}, {'Tweets': \"RT @Vuvu_LK: @akreana_ Hey if y'all could please help me secure at least 10 sales before the end of today, I would really appreciate  🙏🏼 🙏🏼…\", 'Timestamp': datetime.datetime(2020, 11, 9, 16, 21, 5)}, {'Tweets': 'RT @TimeoutSPORTS3: Imagine a Skip Bayless and Donald Trump debate 😂\\n\\n#PresidentialDebate #Debates2020 https://t.co/7f1v8VIARR', 'Timestamp': datetime.datetime(2020, 11, 9, 16, 12, 6)}, {'Tweets': 'RT @TimeoutSPORTS3: Imagine a Skip Bayless and Donald Trump debate 😂\\n\\n#PresidentialDebate #Debates2020 https://t.co/7f1v8VIARR', 'Timestamp': datetime.datetime(2020, 11, 9, 16, 9, 12)}, {'Tweets': 'RT @TimeoutSPORTS3: Imagine a Skip Bayless and Donald Trump debate 😂\\n\\n#PresidentialDebate #Debates2020 https://t.co/7f1v8VIARR', 'Timestamp': datetime.datetime(2020, 11, 9, 16, 5, 33)}, {'Tweets': \"RT @DrGJackBrown: Trump's Pupils are dilated to 6.5 mm in his right eye and 6.0 mm in his left eye. This fits Trump's pattern of long-term,…\", 'Timestamp': datetime.datetime(2020, 11, 9, 12, 44)}, {'Tweets': 'RT @NathanWyburnArt: My @JoeBiden portrait created by stamping the word VOTE! 🇺🇸 \\n\\n#Biden #BidenHarris2020 \\n#Biden2020 #usa🇺🇸 #American #PO…', 'Timestamp': datetime.datetime(2020, 11, 9, 11, 32, 36)}, {'Tweets': 'RT @BBCtrending: 👀 The final US #PresidentialDebate: Trump and Biden fact-checked (via @BBCRealityCheck) https://t.co/5IvBPZkB2u', 'Timestamp': datetime.datetime(2020, 11, 9, 10, 18, 37)}, {'Tweets': '“The Nightmare” by Mark Bryan. Please share and visit https://t.co/HO4SgEd9BH for more #antitrump #art 😀… https://t.co/ZfYV6v2kNi', 'Timestamp': datetime.datetime(2020, 11, 9, 9, 33, 21)}, {'Tweets': \"RT @DrGJackBrown: Trump's Pupils are dilated to 6.5 mm in his right eye and 6.0 mm in his left eye. This fits Trump's pattern of long-term,…\", 'Timestamp': datetime.datetime(2020, 11, 9, 9, 25, 38)}, {'Tweets': '@realDonaldTrump More #AntiTrump #art on https://t.co/HO4SgEd9BH\\n\\n  #thedrum #DonaldTrump #TrumpOut #TrumpOut2020… https://t.co/JM1ZqbMMMZ', 'Timestamp': datetime.datetime(2020, 11, 9, 9, 2, 31)}, {'Tweets': 'MEXICO WHERE YOU AT‼️.... I’M Mexican ✌🏽night with da mix of DonJulio 💡 #StarStatus💫 #Drinks #TurnUp #FemaleDJ… https://t.co/0vO1j88ZqQ', 'Timestamp': datetime.datetime(2020, 11, 9, 9, 1, 3)}, {'Tweets': 'RT @Doctor_GAM: @AOC  \\n@AyannaPressley \\n@IlhanMN \\n@RashidaTlaib  \\n\\n🙈 🙊 🙉 🐵 🐒\\n#PresidentialDebate \\n😑 😑 😑 😑 😑', 'Timestamp': datetime.datetime(2020, 11, 9, 7, 49, 21)}, {'Tweets': 'RT @WSjp_insight: Final(2nd)US🇺🇸#PresidentialDebate 10/22/2020 BelmontUniv #debate,#Debates2020 \\nhttps://t.co/IxTYG359i2\\nnewsmax MotherJone…', 'Timestamp': datetime.datetime(2020, 11, 9, 6, 50, 25)}, {'Tweets': 'RT @jaydiggsmusic: Jay Diggs with his new smash hit taking over the streets “Fly On You” (feat. @VP ) #mikepencefly #PresidentialDebate htt…', 'Timestamp': datetime.datetime(2020, 11, 9, 2, 46, 35)}, {'Tweets': 'Hahaha @jamesdjamezbermudez with the win hahaha go buy my wine! \\nhttps://t.co/IolFSmsKs1 #superman… https://t.co/AeEd9CDFzp', 'Timestamp': datetime.datetime(2020, 11, 9, 1, 21, 19)}, {'Tweets': 'RT @85SouthShow: Look how Marvin Gaye looking😂😂 #PresidentialDebate https://t.co/VLXvSa9Rks', 'Timestamp': datetime.datetime(2020, 11, 8, 22, 43, 19)}, {'Tweets': 'RT @thepopcornreel: Well done here: @secupp on suburban white women and the ubiquity of men (and shambolic men) in power. #PresidentialDeba…', 'Timestamp': datetime.datetime(2020, 11, 8, 19, 45, 4)}, {'Tweets': 'RT @dhume: Trump has brought up India twice in the #PresidentialDebate: 1. As a country that is probably lying about its true number of Cov…', 'Timestamp': datetime.datetime(2020, 11, 8, 19, 40, 33)}, {'Tweets': \"🤔 There actually might be some truth in this. Who's going to have a look at it?\\n#stocks #stockstowatch… https://t.co/rk7wlOQpWS\", 'Timestamp': datetime.datetime(2020, 11, 8, 18, 0)}, {'Tweets': 'Americans be like: Nooo both parties suck \\nMe: Vote a third party then\\nAmericans: nahhh\\n\\n#PresidentialElection… https://t.co/cAAZr7jYmQ', 'Timestamp': datetime.datetime(2020, 11, 8, 11, 48, 13)}, {'Tweets': \"RT @ConserveLetters: MISSING A VIDEO DEBATE, PERHAPS...? JOIN ME!\\n~ #PresidentialDebate \\nI'M JOE BIDEN AND I APPROVE THIS MESSAGE https://t…\", 'Timestamp': datetime.datetime(2020, 11, 8, 11, 19, 41)}, {'Tweets': 'RT @jrostant: \"Putin\\'s puppy\" #PresidentialDebate https://t.co/cI8o8Fnyoo', 'Timestamp': datetime.datetime(2020, 11, 8, 10, 44, 44)}, {'Tweets': \"There's no míracle coming to save human kind. It's up to everyone's mind.\\n#people #Parliament #DemocracyWins… https://t.co/KVJcWqO52Y\", 'Timestamp': datetime.datetime(2020, 11, 8, 10, 43, 26)}, {'Tweets': 'RT @Proplayer3185: This is election is getting intense\\n\\n#jojosbizarreadventure #jojomemes #election2020 #presidentialelection #presidential…', 'Timestamp': datetime.datetime(2020, 11, 8, 8, 34, 47)}, {'Tweets': 'RT @PoloIzquierdoTO: The #Moderator needs to take some notes to #ShutUpTrump next #Debatenight #BidenHarris #VoteBlueToSaveAmerica #VoteBlu…', 'Timestamp': datetime.datetime(2020, 11, 8, 7, 49, 3)}, {'Tweets': 'RT @TheTweetOfGod: Keep My fucking name out of this. #PresidentialDebate', 'Timestamp': datetime.datetime(2020, 11, 8, 6, 2, 14)}, {'Tweets': 'Oh boy, watching the #PresidentialDebate and his rallies again would be so much entertainment right now. #TrumpOut', 'Timestamp': datetime.datetime(2020, 11, 8, 4, 2, 37)}, {'Tweets': 'Someone said  Kamala Harris and Joe Biden won....so I figured I show up as secret service. #46 #presidentialdebate… https://t.co/1WbMHdGEpz', 'Timestamp': datetime.datetime(2020, 11, 8, 3, 49, 3)}, {'Tweets': 'Joe Biden wins the US presidential election\\n. &gt;\\n. &gt;\\n. &gt;\\n#nbcnews #joebiden #uselection #joebiden #bidenharris2020… https://t.co/B23hvsd770', 'Timestamp': datetime.datetime(2020, 11, 8, 2, 45, 47)}, {'Tweets': 'RT @bomiller3: Tonight’s predictions: #PresidentialDebate #debates #Debates2020 #trump #biden #popsmoke @realDonaldTrump @JoeBiden @RyanAFo…', 'Timestamp': datetime.datetime(2020, 11, 8, 2, 44, 54)}, {'Tweets': 'Sad day for American #BidenScandalAintGoingAway #PresidentialDebate #Trump2020', 'Timestamp': datetime.datetime(2020, 11, 8, 2, 24, 59)}, {'Tweets': 'RT @TronDisney: #PresidentTrump is the PAST #PresidentBiden is the FUTURE. #Oil is the PAST #RenewableEnergy is the FUTURE. \\n\\nOR WE ARE THE…', 'Timestamp': datetime.datetime(2020, 11, 8, 2, 2, 50)}, {'Tweets': '@kamalaharris is the first FEMALE vice president of the United States PLUS it is the 100th year anniversary of the… https://t.co/XdISjDr5EC', 'Timestamp': datetime.datetime(2020, 11, 8, 0, 5, 31)}, {'Tweets': \"RT @BobbyMcGivney: This SNL skit is funny but it's really long. Also, why is it on a Tuesday night?  #PresidentialDebate #Debates2020 #Deba…\", 'Timestamp': datetime.datetime(2020, 11, 7, 23, 22, 49)}, {'Tweets': 'RT @andrew_pharis: #Debate2020 #iykyk #giantdouche #turdsandwich #PresidentialDebate #debates #JoJorgensen2020 https://t.co/yPdIuFV1Qv', 'Timestamp': datetime.datetime(2020, 11, 7, 22, 57, 14)}, {'Tweets': 'RT @jaydiggsmusic: Jay Diggs with his new smash hit taking over the streets “Fly On You” (feat. @VP ) #mikepencefly #PresidentialDebate htt…', 'Timestamp': datetime.datetime(2020, 11, 7, 22, 31, 36)}, {'Tweets': 'Never more appropriate - dump the trump! A glimmer of light has widened - the worlds axis can spin more freely toni… https://t.co/3n2yRzE5CW', 'Timestamp': datetime.datetime(2020, 11, 7, 20, 48, 43)}, {'Tweets': 'I never use Twitter but I’m crying laughing rn I’ve been so depressed lately today I feel pure happiness ❤️😂… https://t.co/z2QlLwxLR9', 'Timestamp': datetime.datetime(2020, 11, 7, 20, 46, 21)}, {'Tweets': 'RT @BubbaBlackout: If you don’t like our new president perhaps you should go back to your own country.\\n\\nI don’t think Europe likes y’all th…', 'Timestamp': datetime.datetime(2020, 11, 7, 20, 2, 22)}, {'Tweets': 'If you don’t like our new president perhaps you should go back to your own country.\\n\\nI don’t think Europe likes y’a… https://t.co/luseiK0bil', 'Timestamp': datetime.datetime(2020, 11, 7, 20, 1, 20)}, {'Tweets': 'satisfait du résultats des élections ? satisfied with the results of the elections ?@realDonaldTrump @JoeBiden @CNN… https://t.co/zvcQ2nxjVV', 'Timestamp': datetime.datetime(2020, 11, 7, 19, 57, 10)}, {'Tweets': \"So here we are. @JoeBiden won. So listen closely. I don't wanna hear a damn thing from anybody when Joe runs our co… https://t.co/uzW3k4p490\", 'Timestamp': datetime.datetime(2020, 11, 7, 19, 42, 29)}, {'Tweets': 'RT @RealCandaceO: Joe Biden says Trump is the worst President America has ever had. \\n\\nNot the presidents that permitted slavery. \\nNot the P…', 'Timestamp': datetime.datetime(2020, 11, 7, 19, 41, 50)}, {'Tweets': 'This guy should have been the moderator for the first @realDonaldTrump @JoeBiden #PresidentialDebate https://t.co/AYjnmy1TMg', 'Timestamp': datetime.datetime(2020, 11, 7, 19, 31, 12)}, {'Tweets': 'Today is a good day... Vice President Kamala Harrison. \\n\\n#presidentialdebate #election2020 #historyinthemaking… https://t.co/HJMpPBhblh', 'Timestamp': datetime.datetime(2020, 11, 7, 19, 0, 8)}, {'Tweets': '“PROJECTS” he didn’t actually win people. Not yet. #PresidentElect #fake #notyet #PresidentialDebate https://t.co/q1p0yqGQh3', 'Timestamp': datetime.datetime(2020, 11, 7, 18, 28, 39)}, {'Tweets': 'Well we have a new President...Joe Biden....Vice President Kamala Harris. \\n\\n#coronavirus2020 #ElectionDay… https://t.co/gwNMKRlCX0', 'Timestamp': datetime.datetime(2020, 11, 7, 17, 45, 6)}, {'Tweets': 'On repeat #FDT #F*ckdonaldtrump #joebidenwins #bidenharis2020 #PresidentialDebate #dumptrump https://t.co/cS2WmMl4DP', 'Timestamp': datetime.datetime(2020, 11, 7, 17, 43, 50)}, {'Tweets': 'RT @NathanWyburnArt: My @JoeBiden portrait created by stamping the word VOTE! 🇺🇸 \\n\\n#Biden #BidenHarris2020 \\n#Biden2020 #usa🇺🇸 #American #PO…', 'Timestamp': datetime.datetime(2020, 11, 7, 17, 23, 16)}, {'Tweets': 'So happy for all my American friends and followers!\\n\\n💙🍾🥂🇺🇸\\n\\n-\\n-\\n-\\n-\\n\\n#joebiden #kamalaharris #presidentbiden… https://t.co/VqUuCY6Uzc', 'Timestamp': datetime.datetime(2020, 11, 7, 17, 18, 13)}, {'Tweets': 'Joe Biden new president of the 🇺🇸 @realDonaldTrump @JoeBiden @CNN @CNNFrancePR @cnnbrk @BFMTV #PresidentialDebate… https://t.co/PFhjm2Geph', 'Timestamp': datetime.datetime(2020, 11, 7, 16, 58, 54)}, {'Tweets': 'RT @NathanWyburnArt: My @JoeBiden portrait created by stamping the word VOTE! 🇺🇸 \\n\\n#Biden #BidenHarris2020 \\n#Biden2020 #usa🇺🇸 #American #PO…', 'Timestamp': datetime.datetime(2020, 11, 7, 16, 57, 57)}, {'Tweets': 'RT @EbonyJHilton_MD: Just thought about the real possibility that @realDonaldTrump went to the #PresidentialDebate KNOWING he was #COVID po…', 'Timestamp': datetime.datetime(2020, 11, 7, 16, 57, 57)}, {'Tweets': 'BIDEN IS PRESIDENT!!!!💙💙💙\\n#JoeBiden #Pennsylvannia #PresidentialDebate https://t.co/YJKeoasc3J', 'Timestamp': datetime.datetime(2020, 11, 7, 16, 51, 36)}, {'Tweets': 'Now playing...#PresidentialDebate #bidenharis2020 https://t.co/FQwflgm6Co', 'Timestamp': datetime.datetime(2020, 11, 7, 16, 47, 25)}, {'Tweets': 'New President Of the #USA \\n#2020Election /#Elections2020 /#PresidentialDebate https://t.co/pxVyPgthnx', 'Timestamp': datetime.datetime(2020, 11, 7, 16, 45, 57)}, {'Tweets': 'RT @NathanWyburnArt: My @JoeBiden portrait created by stamping the word VOTE! 🇺🇸 \\n\\n#Biden #BidenHarris2020 \\n#Biden2020 #usa🇺🇸 #American #PO…', 'Timestamp': datetime.datetime(2020, 11, 7, 16, 40, 31)}, {'Tweets': 'Congratulations President Joe Biden and VP Kamala Harris! 🇺🇸🙌🏻 \\n\\nWe won our country back.. 🙏🏻😭 \\n\\n#MVPHarris… https://t.co/N12D407ZPV', 'Timestamp': datetime.datetime(2020, 11, 7, 16, 37, 55)}, {'Tweets': 'congratulations mr. president 💙💙 #PromisesMadePromisesKept #congratulations #PresidentialDebate #bidenharis2020 https://t.co/RzvOIxogUg', 'Timestamp': datetime.datetime(2020, 11, 7, 16, 36, 58)}, {'Tweets': 'Behold Our New President! #election2020 #joebiden #presidentialdebate https://t.co/nbouQj2sdC', 'Timestamp': datetime.datetime(2020, 11, 7, 16, 28, 38)}, {'Tweets': 'RT @iiPrimeTimeTV: Make you you go subscribe and leave a like 🤩😌 \\n\\nhttps://t.co/nVFrnTvyD1\\n\\n#viral #trending #lit #youtube #like #comment #…', 'Timestamp': datetime.datetime(2020, 11, 7, 15, 34, 26)}, {'Tweets': 'Make you you go subscribe and leave a like 🤩😌 \\n\\nhttps://t.co/nVFrnTvyD1\\n\\n#viral #trending #lit #youtube #like… https://t.co/uRrn8slkz3', 'Timestamp': datetime.datetime(2020, 11, 7, 15, 33, 57)}, {'Tweets': 'RT @BrookesTimes: My cartoon Friday @TheTimes....#Trump trashes democracy. #PresidentialDebate https://t.co/qK2M4QkKC3', 'Timestamp': datetime.datetime(2020, 11, 7, 15, 26, 43)}, {'Tweets': 'Smh  #JoeBiden #Election2020results\\n#Election2020 #bidenharis2020 #BidenHarris2020 #Philadelphia #PresidentialDebate #Pennsylvania2020', 'Timestamp': datetime.datetime(2020, 11, 7, 15, 20)}, {'Tweets': 'Joe Biden Ditches Bernie Bros at Debate: Denounces Medicare for All, Defund the Police, Green New Deal… https://t.co/PRTMkCAw81', 'Timestamp': datetime.datetime(2020, 11, 7, 14, 39, 45)}, {'Tweets': 'Are we ready for the #PresidentialDebate', 'Timestamp': datetime.datetime(2020, 11, 7, 12, 14, 57)}, {'Tweets': 'RT @EbonyJHilton_MD: Just thought about the real possibility that @realDonaldTrump went to the #PresidentialDebate KNOWING he was #COVID po…', 'Timestamp': datetime.datetime(2020, 11, 7, 12, 12, 28)}, {'Tweets': '#stageysaturday\\n\\nOur money is on Mary Poppins, how about you?\\n\\n#president #musical #presidentialdebate… https://t.co/BHuxrAZap1', 'Timestamp': datetime.datetime(2020, 11, 7, 11, 58, 18)}, {'Tweets': 'RT @RitaPanahi: Forget about prison reform Trump should trumpet the fact that his administration achieved the lowest black unemployment rat…', 'Timestamp': datetime.datetime(2020, 11, 7, 10, 42, 10)}, {'Tweets': 'RT @jaydiggsmusic: Jay Diggs with his new smash hit taking over the streets “Fly On You” (feat. @VP ) #mikepencefly #PresidentialDebate htt…', 'Timestamp': datetime.datetime(2020, 11, 7, 9, 56, 31)}, {'Tweets': 'RT @jaydiggsmusic: Jay Diggs with his new smash hit taking over the streets “Fly On You” (feat. @VP ) #mikepencefly #PresidentialDebate htt…', 'Timestamp': datetime.datetime(2020, 11, 7, 9, 47, 41)}, {'Tweets': 'Open yourself up, stand up for your beliefs. Don’t give half hearted comments. Be real. We Americans want you to be… https://t.co/4GrEOvz8kX', 'Timestamp': datetime.datetime(2020, 11, 7, 4, 41, 1)}, {'Tweets': 'Democrats and republicans can get along. Stop hiding behind your money or big money. Reflect on why you started you… https://t.co/WvU1Yvn1v9', 'Timestamp': datetime.datetime(2020, 11, 7, 4, 40)}, {'Tweets': 'RT @__beeg__yoshi__: Can this year’s vote follow Among Us rules where if enough of us skip the vote, we just have no president #Presidentia…', 'Timestamp': datetime.datetime(2020, 11, 7, 4, 34, 32)}, {'Tweets': 'RT @NathanWyburnArt: My @JoeBiden portrait created by stamping the word VOTE! 🇺🇸 \\n(VIDEO BELOW)\\n\\n#Biden #BidenHarris2020 \\n#Biden2020 #usa🇺🇸…', 'Timestamp': datetime.datetime(2020, 11, 7, 3, 54, 52)}, {'Tweets': \"#Repost from @imarkkeyz with @regram.app \\n ... \\n\\n🥴 I don't know who told you that playa @realdonaldtrump • {via:… https://t.co/0Eor14R00a\", 'Timestamp': datetime.datetime(2020, 11, 7, 3, 29, 31)}, {'Tweets': 'RT @EbonyJHilton_MD: Just thought about the real possibility that @realDonaldTrump went to the #PresidentialDebate KNOWING he was #COVID po…', 'Timestamp': datetime.datetime(2020, 11, 7, 3, 13, 50)}, {'Tweets': 'RT @EbonyJHilton_MD: Just thought about the real possibility that @realDonaldTrump went to the #PresidentialDebate KNOWING he was #COVID po…', 'Timestamp': datetime.datetime(2020, 11, 7, 3, 12, 45)}, {'Tweets': '#Election2020 #PresidentialDebate #Biden2020 \\nWehlp. https://t.co/DCABWdZSNl', 'Timestamp': datetime.datetime(2020, 11, 7, 2, 32, 28)}, {'Tweets': 'RT @NathanWyburnArt: My @JoeBiden portrait created by stamping the word VOTE! 🇺🇸 \\n\\n#Biden #BidenHarris2020 \\n#Biden2020 #usa🇺🇸 #American #PO…', 'Timestamp': datetime.datetime(2020, 11, 7, 1, 21, 38)}, {'Tweets': 'RT @grittyphilly1: #PresidentialDebate #Debate2020 #badthingshappeninphiladelphia https://t.co/6ZeUjAIaGv', 'Timestamp': datetime.datetime(2020, 11, 7, 1, 15, 48)}, {'Tweets': 'RT @EbonyJHilton_MD: Just thought about the real possibility that @realDonaldTrump went to the #PresidentialDebate KNOWING he was #COVID po…', 'Timestamp': datetime.datetime(2020, 11, 7, 1, 10, 19)}, {'Tweets': 'RT @EbonyJHilton_MD: Just thought about the real possibility that @realDonaldTrump went to the #PresidentialDebate KNOWING he was #COVID po…', 'Timestamp': datetime.datetime(2020, 11, 7, 1, 8, 22)}, {'Tweets': \"Trump is God's man.  We will all see.#presidentialdebate\", 'Timestamp': datetime.datetime(2020, 11, 7, 1, 5, 58)}, {'Tweets': 'RT @EbonyJHilton_MD: Just thought about the real possibility that @realDonaldTrump went to the #PresidentialDebate KNOWING he was #COVID po…', 'Timestamp': datetime.datetime(2020, 11, 7, 1, 5)}, {'Tweets': 'Just thought about the real possibility that @realDonaldTrump went to the #PresidentialDebate KNOWING he was #COVID… https://t.co/geiANLu2EY', 'Timestamp': datetime.datetime(2020, 11, 7, 1, 4, 46)}, {'Tweets': 'Oh shit #AEWDark tonight in Friday , sorry #Smackdown n #PresidentialDebate  I have something else to watch', 'Timestamp': datetime.datetime(2020, 11, 7, 1, 2, 38)}, {'Tweets': 'Let me tell you about how he got this... #ByeByeTrump #Election2020results #ElectionResult2020 #PresidentialDebate https://t.co/Nh5i1LKhjs', 'Timestamp': datetime.datetime(2020, 11, 6, 23, 27, 34)}, {'Tweets': \"RT @no2censorship: Which candidate will unequivocally condemn Human Right abuses in #Iran in tomorrow's #PresidentialDebate?\\n@realDonaldTru…\", 'Timestamp': datetime.datetime(2020, 11, 6, 23, 6, 27)}, {'Tweets': 'Reblogged 10/4/20: 9/30/20: Democracy Disoriented #poetry #PresidentialDebate https://t.co/MKqESGPuO0 via… https://t.co/Xt9CEAYDDk', 'Timestamp': datetime.datetime(2020, 11, 6, 22, 49, 42)}, {'Tweets': 'RT @jaydiggsmusic: Jay Diggs with his new smash hit taking over the streets “Fly On You” (feat. @VP ) #mikepencefly #PresidentialDebate htt…', 'Timestamp': datetime.datetime(2020, 11, 6, 21, 14, 23)}, {'Tweets': '“We do have a job opening. We’re looking for somebody who has a strong background in discipline, repeating themselv… https://t.co/Oo5XleNRui', 'Timestamp': datetime.datetime(2020, 11, 6, 21, 0, 20)}, {'Tweets': 'RT @JamesFeral: #bidenharis2020 #2020Election #Trump2020 #TrumpIsLosing #PresidentElect #PresidentialDebate #BidenPresident https://t.co/Dm…', 'Timestamp': datetime.datetime(2020, 11, 6, 20, 3, 20)}, {'Tweets': '#bidenharis2020 #2020Election #Trump2020 #TrumpIsLosing #PresidentElect #PresidentialDebate #BidenPresident https://t.co/DmLHjTEHAI', 'Timestamp': datetime.datetime(2020, 11, 6, 20, 0, 41)}, {'Tweets': 'Torn tonight between the #PresidentialDebate and the final of #DontRockTheBoat. So much pressure! #drtb', 'Timestamp': datetime.datetime(2020, 11, 6, 19, 32, 51)}, {'Tweets': 'Fake Fraud Allegations | Uncover Fraud https://t.co/dhJC1nSP0W via @YouTube \\n\\n#fraud #forensicaccounting… https://t.co/ZWMweEgHtO', 'Timestamp': datetime.datetime(2020, 11, 6, 19, 11, 46)}, {'Tweets': 'Definitely concerned about having a lame duck President in office for the next two months...especially with the beh… https://t.co/jtC1YLafhk', 'Timestamp': datetime.datetime(2020, 11, 6, 18, 3, 51)}, {'Tweets': '#presidentialdebate #StreetFighter #Vs #mortalkombat #themandalorian', 'Timestamp': datetime.datetime(2020, 11, 6, 18, 3, 10)}, {'Tweets': 'I can hardly wait for #PresidentialDebate in 2024 to see #KamalaHarris vs recently-released felon #IvankaTrump', 'Timestamp': datetime.datetime(2020, 11, 6, 17, 47, 55)}, {'Tweets': 'RT @TheTweetOfGod: Keep My fucking name out of this. #PresidentialDebate', 'Timestamp': datetime.datetime(2020, 11, 6, 17, 4, 48)}, {'Tweets': 'RT @grittyphilly1: #PresidentialDebate #Debate2020 #badthingshappeninphiladelphia https://t.co/6ZeUjAIaGv', 'Timestamp': datetime.datetime(2020, 11, 6, 16, 46, 47)}, {'Tweets': 'RT @grittyphilly1: #PresidentialDebate #Debate2020 #badthingshappeninphiladelphia https://t.co/6ZeUjAIaGv', 'Timestamp': datetime.datetime(2020, 11, 6, 16, 44, 24)}, {'Tweets': 'RT @grittyphilly1: #PresidentialDebate #Debate2020 #badthingshappeninphiladelphia https://t.co/6ZeUjAIaGv', 'Timestamp': datetime.datetime(2020, 11, 6, 16, 15, 48)}, {'Tweets': 'RT @grittyphilly1: #PresidentialDebate #Debate2020 #badthingshappeninphiladelphia https://t.co/6ZeUjAIaGv', 'Timestamp': datetime.datetime(2020, 11, 6, 16, 13, 53)}, {'Tweets': 'RT @grittyphilly1: #PresidentialDebate #Debate2020 #badthingshappeninphiladelphia https://t.co/6ZeUjAIaGv', 'Timestamp': datetime.datetime(2020, 11, 6, 16, 13, 51)}, {'Tweets': 'RT @grittyphilly1: #PresidentialDebate #Debate2020 #badthingshappeninphiladelphia https://t.co/6ZeUjAIaGv', 'Timestamp': datetime.datetime(2020, 11, 6, 16, 13, 14)}, {'Tweets': 'RT @grittyphilly1: #PresidentialDebate #Debate2020 #badthingshappeninphiladelphia https://t.co/6ZeUjAIaGv', 'Timestamp': datetime.datetime(2020, 11, 6, 16, 10, 24)}, {'Tweets': 'RT @grittyphilly1: #PresidentialDebate #Debate2020 #badthingshappeninphiladelphia https://t.co/6ZeUjAIaGv', 'Timestamp': datetime.datetime(2020, 11, 6, 16, 8, 54)}, {'Tweets': '\"Trump you\\'re fired!\" Moving truck was Melania saying \"I \\ncan\\'t do you for 4 more years!\" #presidentialdebate', 'Timestamp': datetime.datetime(2020, 11, 6, 15, 13, 44)}, {'Tweets': 'https://t.co/ysKQzoNbBY\\n\\n #PresidentialDebate', 'Timestamp': datetime.datetime(2020, 11, 6, 14, 31, 15)}, {'Tweets': '#PresidentialDebate\\n\\nhttps://t.co/ysKQzoNbBY', 'Timestamp': datetime.datetime(2020, 11, 6, 14, 31, 6)}, {'Tweets': 'WAIT...Is it too late to still vote?!?!?! I MADE A MISTAKE #presidentialdebate #presidentialelection #president… https://t.co/tqFui0Hm9r', 'Timestamp': datetime.datetime(2020, 11, 6, 14, 30, 55)}, {'Tweets': 'RT @mohamadneser: غلاف مجلة التايم لهذا الأسبوع:  علم ممزق يرمز إلى حجم الانقسام الاجتماعي والتناحر السياسي في أميركا.\\n#PresidentialDebate…', 'Timestamp': datetime.datetime(2020, 11, 6, 13, 59, 36)}, {'Tweets': 'Get my art printed on awesome products. Support me at Redbubble #RBandME:  https://t.co/38h6bXhp8Q #findyourthing… https://t.co/N96JCtHHVA', 'Timestamp': datetime.datetime(2020, 11, 6, 13, 13, 47)}, {'Tweets': 'Get my art printed on awesome products. Support me at Redbubble #RBandME:  https://t.co/js4Agqgoxo #findyourthing… https://t.co/N1T76sRxGr', 'Timestamp': datetime.datetime(2020, 11, 6, 13, 13, 28)}, {'Tweets': 'RT @mohamadneser: غلاف مجلة التايم لهذا الأسبوع:  علم ممزق يرمز إلى حجم الانقسام الاجتماعي والتناحر السياسي في أميركا.\\n#PresidentialDebate…', 'Timestamp': datetime.datetime(2020, 11, 6, 12, 56, 40)}, {'Tweets': '@NihilistNaz @MattWalshBlog “You guys are just embarrassing yourselves”...the theme of the first… https://t.co/6eOohvzN6F', 'Timestamp': datetime.datetime(2020, 11, 6, 12, 50, 53)}, {'Tweets': 'RT @therealbahia: BOM DIA!\\nAPENAS PEÇO QUE CONFIRAM! \\n🦇🦇🦇\\n\\nhttps://t.co/K5st3iaeTg\\n\\nTrechinho do que rolou na live...\\n\\n🚀🚀🚀\\n\\n#rap #rapcwb #t…', 'Timestamp': datetime.datetime(2020, 11, 6, 12, 20, 12)}, {'Tweets': '...To put things in perspective #GEORGIA had 5 million votes and the difference is 1000 votes.\\nThat is 1 single dif… https://t.co/h2IXgjklV8', 'Timestamp': datetime.datetime(2020, 11, 6, 12, 7, 51)}, {'Tweets': 'Get my art printed on awesome products. Support me at Redbubble #RBandME:  https://t.co/BosR0TvD0V #findyourthing… https://t.co/eI49TtANk9', 'Timestamp': datetime.datetime(2020, 11, 6, 12, 7, 12)}, {'Tweets': 'غلاف مجلة التايم لهذا الأسبوع:  علم ممزق يرمز إلى حجم الانقسام الاجتماعي والتناحر السياسي في أميركا.… https://t.co/gzLYnAopID', 'Timestamp': datetime.datetime(2020, 11, 6, 11, 43, 59)}, {'Tweets': 'RT @HaywardSings: FREE VOCALS FOR ALL!!\\nMY FELLOW DUBSTEPPERS!\\n\\n🏴\\u200d☠️🎤 Hayward 2024 🎤🏴\\u200d☠️\\n#PresidentialElection2020 #hayward #hayward4prez #…', 'Timestamp': datetime.datetime(2020, 11, 6, 11, 40, 23)}, {'Tweets': 'Biden - 264\\nTrump - 214\\nIreland - 0\\n#ElectionDay2020 #ElectionDay #PresidentialDebate2020 #TrumpMeltdown #election… https://t.co/lM7ESvdh0I', 'Timestamp': datetime.datetime(2020, 11, 6, 11, 35, 45)}, {'Tweets': 'RT @WSjp_insight: 2nd US #PresidentialDebate articles https://t.co/3uiHbyyVnD WUSTL bpolitics TPM nprpolitics HuffPostPol thedailybeast the…', 'Timestamp': datetime.datetime(2020, 11, 6, 9, 22, 6)}, {'Tweets': 'RT @David_Leavitt: “Would you shut up man?,” @JoeBiden to @realDonaldTrump.\\n\\nRetweet if you agree\\n\\n#Debates2020 #PresidentialDebate2020 #Pr…', 'Timestamp': datetime.datetime(2020, 11, 6, 6, 55, 20)}, {'Tweets': 'RT @jaydiggsmusic: Jay Diggs with his new smash hit taking over the streets “Fly On You” (feat. @VP ) #mikepencefly #PresidentialDebate htt…', 'Timestamp': datetime.datetime(2020, 11, 6, 6, 34, 10)}, {'Tweets': '@HomersBestBits #PresidentialDebate 2020😹😹😹', 'Timestamp': datetime.datetime(2020, 11, 6, 5, 24, 22)}, {'Tweets': 'RT @dylanminnette: hey trump supporters, how does it feel to support a literal fucking toddler? i’m so embarrassed for you. #PresidentialDe…', 'Timestamp': datetime.datetime(2020, 11, 6, 4, 59, 44)}, {'Tweets': \"RT @ConserveLetters: MISSING A VIDEO DEBATE, PERHAPS...? JOIN ME!\\n~ #PresidentialDebate \\nI'M JOE BIDEN AND I APPROVE THIS MESSAGE https://t…\", 'Timestamp': datetime.datetime(2020, 11, 6, 4, 6, 34)}, {'Tweets': \"RT @freedomactradio: Malarkey? THIS is the REAL M'larky. @VonWarren @daenerys2016 @mrdanfogler @actionshowstuds\\n@FuzzLandstrong6\\n\\n#Debates2…\", 'Timestamp': datetime.datetime(2020, 11, 6, 3, 12, 39)}, {'Tweets': \"RT @ConserveLetters: MISSING A VIDEO DEBATE, PERHAPS...? JOIN ME!\\n~ #PresidentialDebate \\nI'M JOE BIDEN AND I APPROVE THIS MESSAGE https://t…\", 'Timestamp': datetime.datetime(2020, 11, 6, 3, 12, 23)}, {'Tweets': \"RT @ConserveLetters: MISSING A VIDEO DEBATE, PERHAPS...? JOIN ME!\\n~ #PresidentialDebate \\nI'M JOE BIDEN AND I APPROVE THIS MESSAGE https://t…\", 'Timestamp': datetime.datetime(2020, 11, 6, 2, 53, 33)}, {'Tweets': \"RT @ConserveLetters: MISSING A VIDEO DEBATE, PERHAPS...? JOIN ME!\\n~ #PresidentialDebate \\nI'M JOE BIDEN AND I APPROVE THIS MESSAGE https://t…\", 'Timestamp': datetime.datetime(2020, 11, 6, 2, 52, 1)}, {'Tweets': \"RT @ConserveLetters: MISSING A VIDEO DEBATE, PERHAPS...? JOIN ME!\\n~ #PresidentialDebate \\nI'M JOE BIDEN AND I APPROVE THIS MESSAGE https://t…\", 'Timestamp': datetime.datetime(2020, 11, 6, 2, 46, 56)}, {'Tweets': 'Imagine. 😭\\n\\n#PresidentialElection #PresidentialDebate #PresidentialDebate2020 #1v1 #JoeBiden #DonaldTrump https://t.co/PL66vKwE6l', 'Timestamp': datetime.datetime(2020, 11, 6, 2, 17, 16)}, {'Tweets': '@JoeBiden did you really say Inshallah or in July ? 🤔 #presidentialdebate #JoeBiden #PresidentialElection', 'Timestamp': datetime.datetime(2020, 11, 6, 2, 15, 45)}, {'Tweets': '#racism #trump2020 #trump #bidenharris2020 #biden #presidentialdebate #country #countrylife #pennsylvania #stopracism', 'Timestamp': datetime.datetime(2020, 11, 6, 1, 47, 23)}, {'Tweets': 'Think about other’s experiences before your own.\\n.\\n.\\n.\\n.\\n#racism #trump2020 #trump #bidenharris2020 #biden… https://t.co/I7KsZDmeEq', 'Timestamp': datetime.datetime(2020, 11, 6, 1, 45, 40)}, {'Tweets': '@FoxNews, I struggled after the 1st #PresidentialDebate with Chris Wallace + Joe Biden v Donald Trump, but gave you… https://t.co/b7cTTaSCd5', 'Timestamp': datetime.datetime(2020, 11, 6, 0, 44, 48)}, {'Tweets': 'RT @blue_criminalv: IMAGINE SHOWS*U GOTTA LOVE TO SEE IT LOL CNN CALLED TRUMP A TURTLE AND SUM OTHER SH AND LOL THEY PUT NOW THIS I LOVE IT…', 'Timestamp': datetime.datetime(2020, 11, 6, 0, 22, 40)}, {'Tweets': 'IMAGINE SHOWS*U GOTTA LOVE TO SEE IT LOL CNN CALLED TRUMP A TURTLE AND SUM OTHER SH AND LOL THEY PUT NOW THIS I LOV… https://t.co/tg5rCe76Uj', 'Timestamp': datetime.datetime(2020, 11, 6, 0, 22, 38)}, {'Tweets': 'Idc much though. Care little but much to talk over and over again. #ElectionDay #PresidentialElection #PresidentialDebate', 'Timestamp': datetime.datetime(2020, 11, 5, 23, 3, 18)}, {'Tweets': 'RT @FreeHugsProject: #PresidentialDebate2020 #PresidentialDebate #Unpresidential https://t.co/uu9GHIsbvF', 'Timestamp': datetime.datetime(2020, 11, 5, 22, 48, 14)}, {'Tweets': \"RT @freedomactradio: Malarkey? THIS is the REAL M'larky. @VonWarren @daenerys2016 @mrdanfogler @actionshowstuds\\n@FuzzLandstrong6\\n\\n#Debates2…\", 'Timestamp': datetime.datetime(2020, 11, 5, 22, 2, 10)}, {'Tweets': 'RT @AurelienBaudet: qui va gagné les élections ? who will win the élection ?@realDonaldTrump @JoeBiden?? @CNN @CNNFrancePR @cnnbrk @BFMTV #…', 'Timestamp': datetime.datetime(2020, 11, 5, 20, 44, 32)}, {'Tweets': 'qui va gagné les élections ? who will win the élection ?@realDonaldTrump @JoeBiden?? @CNN @CNNFrancePR @cnnbrk… https://t.co/LXNkACSYVj', 'Timestamp': datetime.datetime(2020, 11, 5, 20, 42, 30)}, {'Tweets': 'RT @1aMinute: #JoeBiden why wld u make stupid remarks abt #IllegalImmigration at #PresidentialDebate? Shld I send you a copy of #AmericasFo…', 'Timestamp': datetime.datetime(2020, 11, 5, 20, 5, 36)}, {'Tweets': 'Wow.  This was before my time, but very interesting.  Who watched this one live on TV?\\n\\nKennedy vs. Nixon: The firs… https://t.co/VWJbxsqin3', 'Timestamp': datetime.datetime(2020, 11, 5, 19, 29, 33)}, {'Tweets': 'RT @UnrigLA: One giant leap towards Idiocracy.\\n\\n#PresidentialDebate https://t.co/fXqDkpdT81', 'Timestamp': datetime.datetime(2020, 11, 5, 19, 16, 29)}, {'Tweets': 'RT @dylanminnette: hey trump supporters, how does it feel to support a literal fucking toddler? i’m so embarrassed for you. #PresidentialDe…', 'Timestamp': datetime.datetime(2020, 11, 5, 17, 55, 8)}, {'Tweets': 'Nevada really over here planning the most dramatic gender reveal yet. Just throw the damn confetti already… https://t.co/x7DEa8OyCw', 'Timestamp': datetime.datetime(2020, 11, 5, 16, 46, 57)}, {'Tweets': 'Anticipating for the results of one of the biggest elections taking place this year? Well, till the time you do tha… https://t.co/lD9XNq4a3O', 'Timestamp': datetime.datetime(2020, 11, 5, 16, 6, 32)}, {'Tweets': 'RT @jaydiggsmusic: Jay Diggs with his new smash hit taking over the streets “Fly On You” (feat. @VP ) #mikepencefly #PresidentialDebate htt…', 'Timestamp': datetime.datetime(2020, 11, 5, 15, 31, 30)}, {'Tweets': 'Yaaasss go Biden I think we got this #AmericaElection #Biden2020 #PresidentialElection #PresidentialDebate', 'Timestamp': datetime.datetime(2020, 11, 5, 15, 8, 22)}, {'Tweets': \"RT @DrGJackBrown: Trump's Pupils are dilated to 6.5 mm in his right eye and 6.0 mm in his left eye. This fits Trump's pattern of long-term,…\", 'Timestamp': datetime.datetime(2020, 11, 5, 14, 49, 52)}, {'Tweets': 'RT @dylanminnette: hey trump supporters, how does it feel to support a literal fucking toddler? i’m so embarrassed for you. #PresidentialDe…', 'Timestamp': datetime.datetime(2020, 11, 5, 14, 7, 46)}, {'Tweets': 'RT @Maineevent239: This song jamming. #viral #viralvideo #presidentialdebate #trump2020 #biden2020 #two3ninecomedy #jermainechurchbrand #us…', 'Timestamp': datetime.datetime(2020, 11, 5, 13, 30, 12)}, {'Tweets': 'This song jamming. #viral #viralvideo #presidentialdebate #trump2020 #biden2020 #two3ninecomedy… https://t.co/inltIcMJDr', 'Timestamp': datetime.datetime(2020, 11, 5, 13, 27, 39)}, {'Tweets': \"RT @DrGJackBrown: Trump's Pupils are dilated to 6.5 mm in his right eye and 6.0 mm in his left eye. This fits Trump's pattern of long-term,…\", 'Timestamp': datetime.datetime(2020, 11, 5, 12, 44, 8)}, {'Tweets': \"RT @DrGJackBrown: Trump's Pupils are dilated to 6.5 mm in his right eye and 6.0 mm in his left eye. This fits Trump's pattern of long-term,…\", 'Timestamp': datetime.datetime(2020, 11, 5, 12, 17, 44)}, {'Tweets': \"RT @DrGJackBrown: Trump's Pupils are dilated to 6.5 mm in his right eye and 6.0 mm in his left eye. This fits Trump's pattern of long-term,…\", 'Timestamp': datetime.datetime(2020, 11, 5, 12, 10, 34)}, {'Tweets': 'Hey Uhuru @StateHouseKenya? In his speech at #PresidentialDebate, Joe Biden promised Americans that he will not clo… https://t.co/NVKOASa8qM', 'Timestamp': datetime.datetime(2020, 11, 5, 11, 57, 10)}, {'Tweets': \"RT @DrGJackBrown: Trump's Pupils are dilated to 6.5 mm in his right eye and 6.0 mm in his left eye. This fits Trump's pattern of long-term,…\", 'Timestamp': datetime.datetime(2020, 11, 5, 11, 50, 19)}, {'Tweets': \"RT @DrGJackBrown: Trump's Pupils are dilated to 6.5 mm in his right eye and 6.0 mm in his left eye. This fits Trump's pattern of long-term,…\", 'Timestamp': datetime.datetime(2020, 11, 5, 11, 6, 2)}, {'Tweets': 'RT @WSjp_insight: 3rd US #PresidentialDebate articles https://t.co/64dClOHu2m BerkeleyISchool Center4Politics YouGovUS KelloggSchool cage_w…', 'Timestamp': datetime.datetime(2020, 11, 5, 10, 41, 28)}, {'Tweets': \"RT @DrGJackBrown: Trump's Pupils are dilated to 6.5 mm in his right eye and 6.0 mm in his left eye. This fits Trump's pattern of long-term,…\", 'Timestamp': datetime.datetime(2020, 11, 5, 10, 22, 25)}, {'Tweets': 'RT @WSjp_insight: 2nd US #PresidentialDebate articles https://t.co/3uiHbyyVnD WUSTL bpolitics TPM nprpolitics HuffPostPol thedailybeast the…', 'Timestamp': datetime.datetime(2020, 11, 5, 9, 29, 30)}, {'Tweets': 'RT @AdrienneNEdward: Do we have a President yet? This election is turning out worse than the Pandemic! lol #Vote #ElectoralMap #Presidentia…', 'Timestamp': datetime.datetime(2020, 11, 5, 8, 50, 3)}, {'Tweets': \"RT @DrGJackBrown: Trump's Pupils are dilated to 6.5 mm in his right eye and 6.0 mm in his left eye. This fits Trump's pattern of long-term,…\", 'Timestamp': datetime.datetime(2020, 11, 5, 8, 38, 41)}, {'Tweets': \"RT @DrGJackBrown: Trump's Pupils are dilated to 6.5 mm in his right eye and 6.0 mm in his left eye. This fits Trump's pattern of long-term,…\", 'Timestamp': datetime.datetime(2020, 11, 5, 6, 33, 20)}, {'Tweets': 'RT @blue_criminalv: IMAGE SHOWS*HOW JOE BIDEN LEADS BY 264 AND TRUMP HAS 214 ITS GETTING A LITTLE CRAZY LETS SEE WHAT HAPPENDS TMW!#Preside…', 'Timestamp': datetime.datetime(2020, 11, 5, 6, 29, 22)}, {'Tweets': 'IMAGE SHOWS*HOW JOE BIDEN LEADS BY 264 AND TRUMP HAS 214 ITS GETTING A LITTLE CRAZY LETS SEE WHAT HAPPENDS TMW!… https://t.co/YeCwtHl8iq', 'Timestamp': datetime.datetime(2020, 11, 5, 6, 29, 11)}, {'Tweets': 'RT @Inthehighest1: #Brooklyn99 _JimmyJabGames_to watch click play #rp aka #mj #rpx #imax #cnn #cognitivecomputing #robonaut #IbmWatsonhello…', 'Timestamp': datetime.datetime(2020, 11, 5, 6, 28, 36)}, {'Tweets': \"RT @DrGJackBrown: Trump's Pupils are dilated to 6.5 mm in his right eye and 6.0 mm in his left eye. This fits Trump's pattern of long-term,…\", 'Timestamp': datetime.datetime(2020, 11, 5, 5, 29, 17)}, {'Tweets': \"RT @DrGJackBrown: Trump's Pupils are dilated to 6.5 mm in his right eye and 6.0 mm in his left eye. This fits Trump's pattern of long-term,…\", 'Timestamp': datetime.datetime(2020, 11, 5, 5, 22, 49)}, {'Tweets': \"RT @DrGJackBrown: Trump's Pupils are dilated to 6.5 mm in his right eye and 6.0 mm in his left eye. This fits Trump's pattern of long-term,…\", 'Timestamp': datetime.datetime(2020, 11, 5, 5, 17, 41)}, {'Tweets': 'RT @TheTweetOfGod: Keep My fucking name out of this. #PresidentialDebate', 'Timestamp': datetime.datetime(2020, 11, 5, 4, 36, 44)}, {'Tweets': 'Do we have a President yet? This election is turning out worse than the Pandemic! lol #Vote #ElectoralMap… https://t.co/cOg3BeaoFL', 'Timestamp': datetime.datetime(2020, 11, 5, 4, 30, 56)}, {'Tweets': 'Trump has these rural areas real hype knowing they don’t want NO smoke with the urban/metropolitan areas… https://t.co/BHgP2NVb0f', 'Timestamp': datetime.datetime(2020, 11, 5, 4, 14, 49)}, {'Tweets': 'RT @NathanWyburnArt: My @JoeBiden portrait created by stamping the word VOTE! 🇺🇸 \\n\\n#Biden #BidenHarris2020 \\n#Biden2020 #usa🇺🇸 #American #PO…', 'Timestamp': datetime.datetime(2020, 11, 5, 3, 58, 29)}, {'Tweets': 'RT @satishacharya: Filthy India, says Donald Trump! #PresidentialDebate #DonaldTrump https://t.co/SPYcUScJzD', 'Timestamp': datetime.datetime(2020, 11, 5, 3, 39, 45)}, {'Tweets': 'Following the election? Check out our news article on the first presidential debate on The Bruin Bulletin! Link in… https://t.co/1fx8Tl1Ke6', 'Timestamp': datetime.datetime(2020, 11, 5, 1, 24, 22)}, {'Tweets': \"RT @Thewarrantymann: Imagine if US politicians fought like other Country's?\\n#PresidentialDebate https://t.co/2IPyqhz061\\n#ZeoliArmy\", 'Timestamp': datetime.datetime(2020, 11, 5, 1, 15, 3)}, {'Tweets': 'RT @LeslieMac: Oh we talking about #VoterFraud again? It’s not a thing! STILL! #PresidentialDebate https://t.co/eelgZ2FYri', 'Timestamp': datetime.datetime(2020, 11, 5, 0, 20, 9)}, {'Tweets': 'RT @jaydiggsmusic: Jay Diggs with his new smash hit taking over the streets “Fly On You” (feat. @VP ) #mikepencefly #PresidentialDebate htt…', 'Timestamp': datetime.datetime(2020, 11, 5, 0, 6, 5)}, {'Tweets': 'Okay but hear me out..... @RealCandaceO and @AOC in a Presidential Debate Stage! #PresidentialDebate', 'Timestamp': datetime.datetime(2020, 11, 4, 23, 10, 1)}, {'Tweets': 'America is about to go into a civil war 🙃 #PresidentialDebate', 'Timestamp': datetime.datetime(2020, 11, 4, 22, 22, 19)}, {'Tweets': 'This is who WON the election!*LEAKED*\\n\\nhttps://t.co/OeywU4Bbso\\n\\n #news #PresidentialElection #PresidentialDebate… https://t.co/sC0eqofEzs', 'Timestamp': datetime.datetime(2020, 11, 4, 21, 44, 25)}, {'Tweets': 'I’m really looking at Michigan like \\n🥺 hey, bighead 🥺 #Election2020 #PresidentialDebate', 'Timestamp': datetime.datetime(2020, 11, 4, 21, 39, 18)}, {'Tweets': 'IM GETTING REAL ANXIOUS #PresidentialDebate #PresidentBiden', 'Timestamp': datetime.datetime(2020, 11, 4, 21, 29, 24)}, {'Tweets': 'RT @sabrinajaneCA: Biden voters realize you’re being kept in the dark. You’re being lied to \\n\\n #presidentialdebate  #votebiden #joebiden #b…', 'Timestamp': datetime.datetime(2020, 11, 4, 21, 22, 14)}, {'Tweets': 'It should be a REQUIREMENT for presidential candidates to rap battle. #rapbattle #PresidentialElection… https://t.co/GfV6YFxaN8', 'Timestamp': datetime.datetime(2020, 11, 4, 20, 34, 55)}, {'Tweets': 'This is election is getting intense\\n\\n#jojosbizarreadventure #jojomemes #election2020 #presidentialelection… https://t.co/Jc9N7cFRid', 'Timestamp': datetime.datetime(2020, 11, 4, 20, 2, 39)}, {'Tweets': '#election2020 #usa #canada #presidentialdebate #presidentofusa #2020elections #staystrong #empowerment #happiness… https://t.co/JdxwA3aBjg', 'Timestamp': datetime.datetime(2020, 11, 4, 19, 58, 42)}, {'Tweets': 'RT @jaydiggsmusic: Jay Diggs with his new smash hit taking over the streets “Fly On You” (feat. @VP ) #mikepencefly #PresidentialDebate htt…', 'Timestamp': datetime.datetime(2020, 11, 4, 19, 54, 9)}, {'Tweets': 'RT @blue_criminalv: IMAGINE SHOWS*THAT THE STATE OF OREGON DECRIMINALIZED THE PERSONAL USE OF ALL DRUGS INCLUDINGING COCANIE AND ECT...!#Pr…', 'Timestamp': datetime.datetime(2020, 11, 4, 19, 49, 14)}, {'Tweets': 'IMAGINE SHOWS*THAT THE STATE OF OREGON DECRIMINALIZED THE PERSONAL USE OF ALL DRUGS INCLUDINGING COCANIE AND ECT...… https://t.co/dHjNzN9lmM', 'Timestamp': datetime.datetime(2020, 11, 4, 19, 49, 8)}, {'Tweets': 'RT @BOSplanet: Take a break from that mess you just saw and enjoy our planet captured by the @OSIRISREx spacecraft, 5,120,000 km away (13 t…', 'Timestamp': datetime.datetime(2020, 11, 4, 19, 46, 17)}, {'Tweets': 'Come on @JoeBiden stall em out #friday #debo #red #PresidentialDebate2020 #PresidentialDebate #KamalaHarris… https://t.co/y0WGrGaVM3', 'Timestamp': datetime.datetime(2020, 11, 4, 19, 22, 19)}, {'Tweets': 'RT @WAKhan337: #PresidentialDebate2020 Trump everywhere, in every polls, in every step.\\n@realDonaldTrump all the way ✌️\\n\\n#Trump won the #Pr…', 'Timestamp': datetime.datetime(2020, 11, 4, 19, 15, 50)}, {'Tweets': 'RT @madheidimovie: A message from Kommandant Knorr to the U.S. 🇺🇸\\n\\n#madheidi #madheidimovie #USA #USElections2020  #JoeBiden #DonaldTrump #…', 'Timestamp': datetime.datetime(2020, 11, 4, 18, 36, 58)}, {'Tweets': 'EVERYONE VOTE TRUMP OUT OF OFFICE PLZ 🥺👀🙏🏾 #teambiden @joebiden @biden.harris2020 \\n•\\n•\\n||#2020vote #vote… https://t.co/AUc4S2g3Q3', 'Timestamp': datetime.datetime(2020, 11, 4, 18, 13, 13)}, {'Tweets': 'RT @RitaCosby: Great #Debate and some very memorable, substantive exchanges!!! Who do YOU think won this last #PresidentialDebate2020 and W…', 'Timestamp': datetime.datetime(2020, 11, 4, 17, 58, 20)}, {'Tweets': \"Excited to share the latest addition to my #etsy shop: Presidential debate | will you shut up man | Joe Biden | I'm… https://t.co/NcU4h05cf4\", 'Timestamp': datetime.datetime(2020, 11, 4, 17, 24, 23)}, {'Tweets': 'RT @NathanWyburnArt: My @JoeBiden portrait created by stamping the word VOTE! 🇺🇸 \\n\\n#Biden #BidenHarris2020 \\n#Biden2020 #usa🇺🇸 #American #PO…', 'Timestamp': datetime.datetime(2020, 11, 4, 16, 39, 44)}, {'Tweets': 'RT @NathanWyburnArt: My @JoeBiden portrait created by stamping the word VOTE! 🇺🇸 \\n\\n#Biden #BidenHarris2020 \\n#Biden2020 #usa🇺🇸 #American #PO…', 'Timestamp': datetime.datetime(2020, 11, 4, 16, 33, 9)}, {'Tweets': 'You know what I miss? Political Ads.\\n\\n#PresidentialElection2020 #PresidentialDebate2020 #PresidentialDebate… https://t.co/6V2HpUoRWh', 'Timestamp': datetime.datetime(2020, 11, 4, 15, 44, 10)}, {'Tweets': 'RT @Brit_blockchain: 📌 What would happen if Political Socio-Economic systems are organised using a #Blockchain?\\n\\n📌 Would it lead to a faire…', 'Timestamp': datetime.datetime(2020, 11, 4, 15, 41, 5)}, {'Tweets': 'Prediction: Biden wins and immediately steps down. Boom -- first woman president.\\n#Election2020 #ElectionDay2020… https://t.co/QXlAFjyb8Y', 'Timestamp': datetime.datetime(2020, 11, 4, 15, 23, 3)}, {'Tweets': '@Chenbas29 @CountCabbage @briwalsh234 @CarolineLucas The 1st not-so-#PresidentialDebate featured the use by… https://t.co/pL5stGubL7', 'Timestamp': datetime.datetime(2020, 11, 4, 15, 1, 45)}, {'Tweets': 'OMG HI @danabrams 😃😃😃😃\\n@StuBishop_LPD @Dachief_Paul\\n@KimberChase @realDonaldTrump\\n#LivePD #NBCNews @JoeBiden… https://t.co/S7lcde0jA5', 'Timestamp': datetime.datetime(2020, 11, 4, 14, 46, 20)}, {'Tweets': 'RT @NathanWyburnArt: My @JoeBiden portrait created by stamping the word VOTE! 🇺🇸 \\n\\n#Biden #BidenHarris2020 \\n#Biden2020 #usa🇺🇸 #American #PO…', 'Timestamp': datetime.datetime(2020, 11, 4, 14, 38, 33)}, {'Tweets': 'RT @NathanWyburnArt: My @JoeBiden portrait created by stamping the word VOTE! 🇺🇸 \\n\\n#Biden #BidenHarris2020 \\n#Biden2020 #usa🇺🇸 #American #PO…', 'Timestamp': datetime.datetime(2020, 11, 4, 14, 0, 2)}, {'Tweets': 'FREE VOCALS FOR ALL!!\\nMY FELLOW DUBSTEPPERS!\\n\\n🏴\\u200d☠️🎤 Hayward 2024 🎤🏴\\u200d☠️\\n#PresidentialElection2020 #hayward… https://t.co/GPajD9cAnq', 'Timestamp': datetime.datetime(2020, 11, 4, 13, 34, 10)}, {'Tweets': 'RT @madheidimovie: A message from Kommandant Knorr to the U.S. 🇺🇸\\n\\n#madheidi #madheidimovie #USA #USElections2020  #JoeBiden #DonaldTrump #…', 'Timestamp': datetime.datetime(2020, 11, 4, 13, 23, 2)}, {'Tweets': 'I know who won the election!*LEAKED*\\n\\nhttps://t.co/OeywU4Bbso\\n\\n #news #PresidentialElection #PresidentialDebate… https://t.co/ASWXjndKF5', 'Timestamp': datetime.datetime(2020, 11, 4, 13, 4, 34)}, {'Tweets': 'Lord over to You &amp; You ONLY \\nPROVERBS 19:21 (NLT) \\nYou can make many plans, but the LORD’s purpose will prevail.… https://t.co/cvMzHTZI4t', 'Timestamp': datetime.datetime(2020, 11, 4, 12, 17, 23)}, {'Tweets': 'RT @RicardoHarrisJr: Talk that Ephesians talk. #presidentialelection #bidenharris2020 #trump #presidentialdebate #president https://t.co/iz…', 'Timestamp': datetime.datetime(2020, 11, 4, 11, 57, 33)}, {'Tweets': 'Talk that Ephesians talk. #presidentialelection #bidenharris2020 #trump #presidentialdebate #president https://t.co/iz3HAMfFPT', 'Timestamp': datetime.datetime(2020, 11, 4, 11, 56, 39)}, {'Tweets': 'This is the NEW president!*LEAKED*\\n\\nhttps://t.co/nq5KnoQyOD\\n\\n #news #PresidentialElection #PresidentialDebate… https://t.co/ZdBOBl7XMw', 'Timestamp': datetime.datetime(2020, 11, 4, 11, 55, 28)}, {'Tweets': '#Election2020 #Elecciones2020 #PresidentTrump #PresidentialDebate', 'Timestamp': datetime.datetime(2020, 11, 4, 11, 41, 52)}, {'Tweets': 'RT @NathanWyburnArt: My @JoeBiden portrait created by stamping the word VOTE! 🇺🇸 \\n\\n#Biden #BidenHarris2020 \\n#Biden2020 #usa🇺🇸 #American #PO…', 'Timestamp': datetime.datetime(2020, 11, 4, 11, 29, 52)}, {'Tweets': 'RT @NathanWyburnArt: My @JoeBiden portrait created by stamping the word VOTE! 🇺🇸 \\n\\n#Biden #BidenHarris2020 \\n#Biden2020 #usa🇺🇸 #American #PO…', 'Timestamp': datetime.datetime(2020, 11, 4, 11, 15, 13)}, {'Tweets': 'RT @KevinHallf1: What ever your views or politics this is fascinating to watch to see who wins with both sides claiming victory! #politics…', 'Timestamp': datetime.datetime(2020, 11, 4, 11, 14, 56)}, {'Tweets': 'RT @NathanWyburnArt: My @JoeBiden portrait created by stamping the word VOTE! 🇺🇸 \\n\\n#Biden #BidenHarris2020 \\n#Biden2020 #usa🇺🇸 #American #PO…', 'Timestamp': datetime.datetime(2020, 11, 4, 11, 13, 56)}, {'Tweets': 'RT @blue_criminalv: PHOTO SHOWS*POLLS NOTHING MUCH HAS CHANGED WE WILL HAVE TO WAIT TILL LATER OK TODAY WELL EVERYONE AM OUT SEE YALL LATER…', 'Timestamp': datetime.datetime(2020, 11, 4, 11, 4, 54)}, {'Tweets': 'PHOTO SHOWS*POLLS NOTHING MUCH HAS CHANGED WE WILL HAVE TO WAIT TILL LATER OK TODAY WELL EVERYONE AM OUT SEE YALL L… https://t.co/bAupYyi9sB', 'Timestamp': datetime.datetime(2020, 11, 4, 11, 4, 47)}, {'Tweets': 'What ever your views or politics this is fascinating to watch to see who wins with both sides claiming victory!… https://t.co/QK55ygNe0h', 'Timestamp': datetime.datetime(2020, 11, 4, 10, 59, 24)}, {'Tweets': 'RT @NathanWyburnArt: My @JoeBiden portrait created by stamping the word VOTE! 🇺🇸 \\n\\n#Biden #BidenHarris2020 \\n#Biden2020 #usa🇺🇸 #American #PO…', 'Timestamp': datetime.datetime(2020, 11, 4, 10, 57, 30)}, {'Tweets': 'RT @NathanWyburnArt: My @JoeBiden portrait created by stamping the word VOTE! 🇺🇸 \\n\\n#Biden #BidenHarris2020 \\n#Biden2020 #usa🇺🇸 #American #PO…', 'Timestamp': datetime.datetime(2020, 11, 4, 10, 53, 28)}, {'Tweets': 'RT @NathanWyburnArt: My @JoeBiden portrait created by stamping the word VOTE! 🇺🇸 \\n\\n#Biden #BidenHarris2020 \\n#Biden2020 #usa🇺🇸 #American #PO…', 'Timestamp': datetime.datetime(2020, 11, 4, 10, 45, 33)}, {'Tweets': '#WHITETERRORIST #AmericanTerrorist #failvote  #failurevote #hackingvote #jackingvotes #AmericasGreatestMistake… https://t.co/kIoh2rPrI3', 'Timestamp': datetime.datetime(2020, 11, 4, 8, 54, 38)}, {'Tweets': 'RT @puppyillhitya: THEY DONT LOVE YOU UNTIL YOU DEAD AND GONE #REALMIKERICH #TRENDING #PresidentialDebate #NBAYoungBoy #4KT #ctc', 'Timestamp': datetime.datetime(2020, 11, 4, 8, 53, 44)}, {'Tweets': 'Joe Biden Tests Negative for #Coronavirus After Attending Debate with Donald Trump https://t.co/gW7E06qqaN… https://t.co/FFbOlw42Du', 'Timestamp': datetime.datetime(2020, 11, 4, 8, 39, 47)}, {'Tweets': 'Who tf did this 😂😂. #Meme #presidentialdebate #election2020 #electionday #funnymemes #takeajoke https://t.co/KjcI9u282r', 'Timestamp': datetime.datetime(2020, 11, 4, 7, 13, 13)}, {'Tweets': 'RT @NathanWyburnArt: My @JoeBiden portrait created by stamping the word VOTE! 🇺🇸 \\n\\n#Biden #BidenHarris2020 \\n#Biden2020 #usa🇺🇸 #American #PO…', 'Timestamp': datetime.datetime(2020, 11, 4, 7, 8, 31)}, {'Tweets': 'RT @RitaCosby: Great #Debate and some very memorable, substantive exchanges!!! Who do YOU think won this last #PresidentialDebate2020 and W…', 'Timestamp': datetime.datetime(2020, 11, 4, 7, 4, 52)}, {'Tweets': 'RT @blue_criminalv: PHOTO SHOWS!THE PRESIDENT POLLS BIDEN IS LEADING 223 AND TRUMP HAS 145 LETS SEE HOW IT KEEPS GOING!#PresidentialElectio…', 'Timestamp': datetime.datetime(2020, 11, 4, 5, 34, 50)}, {'Tweets': 'PHOTO SHOWS!THE PRESIDENT POLLS BIDEN IS LEADING 223 AND TRUMP HAS 145 LETS SEE HOW IT KEEPS GOING!… https://t.co/EHWqfxNMSZ', 'Timestamp': datetime.datetime(2020, 11, 4, 5, 34, 47)}, {'Tweets': 'Damn this shit really about to take DAYS huh.\\n•\\n•\\n•\\n#ElectionNight\\u202f\\u202f\\u202f #Election2020 #ElectionDay #Elections2020… https://t.co/iHGJHTCSfB', 'Timestamp': datetime.datetime(2020, 11, 4, 4, 29, 46)}, {'Tweets': 'Ich glaube ich seh nicht richtig?!? @ZDF #PresidentialElection2020 #PresidentialDebate #ZDF #horrorcamp #storch… https://t.co/uaQClKsUwh', 'Timestamp': datetime.datetime(2020, 11, 4, 4, 19, 20)}, {'Tweets': 'How president win decided in USA???🇺🇲🇺🇲🇺🇲🇺🇲\\n#PresidentialElection #PremierLeague #PresidentialDebate… https://t.co/wIK6NgMEPI', 'Timestamp': datetime.datetime(2020, 11, 4, 4, 14, 47)}, {'Tweets': 'RT @blue_criminalv: VIDEO SHOWS!THAT THEIRS BRICKS BEING PUT AROUND SANTA MONICA,CA ALL AM GUESSING THEY BUT THE THEIR SO WHEN UNREST HAPPE…', 'Timestamp': datetime.datetime(2020, 11, 4, 3, 42, 16)}, {'Tweets': 'VIDEO SHOWS!THAT THEIRS BRICKS BEING PUT AROUND SANTA MONICA,CA ALL AM GUESSING THEY BUT THE THEIR SO WHEN UNREST H… https://t.co/yOZB7kdUYj', 'Timestamp': datetime.datetime(2020, 11, 4, 3, 42, 13)}, {'Tweets': 'RT @9ja_phonestore: Kindly Retweet please \\nDirect Uk used IPhone X (Smart)\\nWith complete Accessories\\nPrice 170k\\nFast sale Nationwide delive…', 'Timestamp': datetime.datetime(2020, 11, 4, 3, 8, 21)}, {'Tweets': 'RT @NathanWyburnArt: My @JoeBiden portrait created by stamping the word VOTE! 🇺🇸 \\n\\n#Biden #BidenHarris2020 \\n#Biden2020 #usa🇺🇸 #American #PO…', 'Timestamp': datetime.datetime(2020, 11, 4, 2, 33, 17)}, {'Tweets': 'RT @medeabenjamin: I will vote for Biden to get rid of Trump, but I hate his hawkish talk re foreign policy. At #presidentialdebate tonight…', 'Timestamp': datetime.datetime(2020, 11, 4, 2, 24, 54)}, {'Tweets': 'RT @FreakShowDeluxe: We are in the freak show business &amp; are OFFENDED that people are referring to tonight’s debate as a “freak show!” WE k…', 'Timestamp': datetime.datetime(2020, 11, 4, 2, 21, 8)}, {'Tweets': 'RT @NathanWyburnArt: My @JoeBiden portrait created by stamping the word VOTE! 🇺🇸 \\n\\n#Biden #BidenHarris2020 \\n#Biden2020 #usa🇺🇸 #American #PO…', 'Timestamp': datetime.datetime(2020, 11, 4, 2, 9, 39)}, {'Tweets': 'RT @blue_criminalv: PHOTO FROM USER SHOWS THAT TRUMP LEADS BIDEN BY 90%LOOKS LIKE THIS STATE IS GOING FOR TRUMP!#ElectionNight #Presidentia…', 'Timestamp': datetime.datetime(2020, 11, 4, 1, 57, 17)}, {'Tweets': 'PHOTO FROM USER SHOWS THAT TRUMP LEADS BIDEN BY 90%LOOKS LIKE THIS STATE IS GOING FOR TRUMP!#ElectionNight… https://t.co/663jIkOxUI', 'Timestamp': datetime.datetime(2020, 11, 4, 1, 57, 15)}, {'Tweets': 'RT @NathanWyburnArt: My @JoeBiden portrait created by stamping the word VOTE! 🇺🇸 \\n\\n#Biden #BidenHarris2020 \\n#Biden2020 #usa🇺🇸 #American #PO…', 'Timestamp': datetime.datetime(2020, 11, 4, 1, 50, 20)}, {'Tweets': 'RT @CivilRightsInt: #Debates2020 Biden taking off his watch on stage was so gross. Is this how he is gonna comport himself with internation…', 'Timestamp': datetime.datetime(2020, 11, 4, 1, 49, 41)}, {'Tweets': 'Who is projected to WIN the presidential election!\\n\\n #news #PresidentialElection #PresidentialDebate… https://t.co/KTGrH05Ruu', 'Timestamp': datetime.datetime(2020, 11, 4, 0, 46, 31)}, {'Tweets': 'RT @NathanWyburnArt: My @JoeBiden portrait created by stamping the word VOTE! 🇺🇸 \\n\\n#Biden #BidenHarris2020 \\n#Biden2020 #usa🇺🇸 #American #PO…', 'Timestamp': datetime.datetime(2020, 11, 4, 0, 41, 45)}, {'Tweets': 'RT @NathanWyburnArt: My @JoeBiden portrait created by stamping the word VOTE! 🇺🇸 \\n\\n#Biden #BidenHarris2020 \\n#Biden2020 #usa🇺🇸 #American #PO…', 'Timestamp': datetime.datetime(2020, 11, 4, 0, 37, 50)}, {'Tweets': 'The people voting for another president in hope for change are the same people buying Fifa every year and believe t… https://t.co/oYqFjhewwl', 'Timestamp': datetime.datetime(2020, 11, 4, 0, 37, 14)}, {'Tweets': 'RT @NathanWyburnArt: My @JoeBiden portrait created by stamping the word VOTE! 🇺🇸 \\n\\n#Biden #BidenHarris2020 \\n#Biden2020 #usa🇺🇸 #American #PO…', 'Timestamp': datetime.datetime(2020, 11, 4, 0, 31, 36)}, {'Tweets': \"If you haven't voted. Go Vote!\\nDon't forget your mask!\\n.\\n.\\n.\\n.\\n#inkbyteatwork #ink8yteatwork #dribbble #teepublic… https://t.co/LMhGJrE2ld\", 'Timestamp': datetime.datetime(2020, 11, 4, 0, 28, 20)}, {'Tweets': 'RT @NathanWyburnArt: My @JoeBiden portrait created by stamping the word VOTE! 🇺🇸 \\n\\n#Biden #BidenHarris2020 \\n#Biden2020 #usa🇺🇸 #American #PO…', 'Timestamp': datetime.datetime(2020, 11, 4, 0, 22, 30)}, {'Tweets': 'RT @NathanWyburnArt: My @JoeBiden portrait created by stamping the word VOTE! 🇺🇸 \\n\\n#Biden #BidenHarris2020 \\n#Biden2020 #usa🇺🇸 #American #PO…', 'Timestamp': datetime.datetime(2020, 11, 4, 0, 21)}, {'Tweets': 'RT @NathanWyburnArt: My @JoeBiden portrait created by stamping the word VOTE! 🇺🇸 \\n\\n#Biden #BidenHarris2020 \\n#Biden2020 #usa🇺🇸 #American #PO…', 'Timestamp': datetime.datetime(2020, 11, 4, 0, 20, 49)}, {'Tweets': 'RT @NathanWyburnArt: My @JoeBiden portrait created by stamping the word VOTE! 🇺🇸 \\n\\n#Biden #BidenHarris2020 \\n#Biden2020 #usa🇺🇸 #American #PO…', 'Timestamp': datetime.datetime(2020, 11, 4, 0, 20, 5)}, {'Tweets': 'RT @NathanWyburnArt: My @JoeBiden portrait created by stamping the word VOTE! 🇺🇸 \\n\\n#Biden #BidenHarris2020 \\n#Biden2020 #usa🇺🇸 #American #PO…', 'Timestamp': datetime.datetime(2020, 11, 4, 0, 19, 40)}, {'Tweets': 'RT @NathanWyburnArt: My @JoeBiden portrait created by stamping the word VOTE! 🇺🇸 \\n\\n#Biden #BidenHarris2020 \\n#Biden2020 #usa🇺🇸 #American #PO…', 'Timestamp': datetime.datetime(2020, 11, 4, 0, 18, 12)}, {'Tweets': 'RT @NathanWyburnArt: My @JoeBiden portrait created by stamping the word VOTE! 🇺🇸 \\n\\n#Biden #BidenHarris2020 \\n#Biden2020 #usa🇺🇸 #American #PO…', 'Timestamp': datetime.datetime(2020, 11, 4, 0, 13, 1)}, {'Tweets': 'RT @NathanWyburnArt: My @JoeBiden portrait created by stamping the word VOTE! 🇺🇸 \\n\\n#Biden #BidenHarris2020 \\n#Biden2020 #usa🇺🇸 #American #PO…', 'Timestamp': datetime.datetime(2020, 11, 4, 0, 8, 28)}, {'Tweets': 'RT @NathanWyburnArt: My @JoeBiden portrait created by stamping the word VOTE! 🇺🇸 \\n\\n#Biden #BidenHarris2020 \\n#Biden2020 #usa🇺🇸 #American #PO…', 'Timestamp': datetime.datetime(2020, 11, 4, 0, 7, 8)}, {'Tweets': 'RT @NathanWyburnArt: My @JoeBiden portrait created by stamping the word VOTE! 🇺🇸 \\n\\n#Biden #BidenHarris2020 \\n#Biden2020 #usa🇺🇸 #American #PO…', 'Timestamp': datetime.datetime(2020, 11, 4, 0, 7, 6)}, {'Tweets': 'RT @junkmxn: The concept of the art show was toxic positivity and I submitted this piece is called “let’s discuss the contradiction” life i…', 'Timestamp': datetime.datetime(2020, 11, 4, 0, 5, 1)}, {'Tweets': 'RT @NathanWyburnArt: My @JoeBiden portrait created by stamping the word VOTE! 🇺🇸 \\n\\n#Biden #BidenHarris2020 \\n#Biden2020 #usa🇺🇸 #American #PO…', 'Timestamp': datetime.datetime(2020, 11, 4, 0, 4, 23)}, {'Tweets': 'RT @NathanWyburnArt: My @JoeBiden portrait created by stamping the word VOTE! 🇺🇸 \\n\\n#Biden #BidenHarris2020 \\n#Biden2020 #usa🇺🇸 #American #PO…', 'Timestamp': datetime.datetime(2020, 11, 4, 0, 3, 9)}, {'Tweets': 'RT @jaydiggsmusic: Jay Diggs with his new smash hit taking over the streets “Fly On You” (feat. @VP ) #mikepencefly #PresidentialDebate htt…', 'Timestamp': datetime.datetime(2020, 11, 3, 23, 56, 21)}, {'Tweets': 'RT @NathanWyburnArt: My @JoeBiden portrait created by stamping the word VOTE! 🇺🇸 \\n\\n#Biden #BidenHarris2020 \\n#Biden2020 #usa🇺🇸 #American #PO…', 'Timestamp': datetime.datetime(2020, 11, 3, 23, 54, 53)}, {'Tweets': 'RT @NathanWyburnArt: My @JoeBiden portrait created by stamping the word VOTE! 🇺🇸 \\n\\n#Biden #BidenHarris2020 \\n#Biden2020 #usa🇺🇸 #American #PO…', 'Timestamp': datetime.datetime(2020, 11, 3, 23, 51, 18)}, {'Tweets': 'RT @NathanWyburnArt: My @JoeBiden portrait created by stamping the word VOTE! 🇺🇸 \\n\\n#Biden #BidenHarris2020 \\n#Biden2020 #usa🇺🇸 #American #PO…', 'Timestamp': datetime.datetime(2020, 11, 3, 23, 46, 37)}, {'Tweets': 'RT @NathanWyburnArt: My @JoeBiden portrait created by stamping the word VOTE! 🇺🇸 \\n\\n#Biden #BidenHarris2020 \\n#Biden2020 #usa🇺🇸 #American #PO…', 'Timestamp': datetime.datetime(2020, 11, 3, 23, 46, 24)}, {'Tweets': 'RT @NathanWyburnArt: My @JoeBiden portrait created by stamping the word VOTE! 🇺🇸 \\n\\n#Biden #BidenHarris2020 \\n#Biden2020 #usa🇺🇸 #American #PO…', 'Timestamp': datetime.datetime(2020, 11, 3, 23, 42, 20)}, {'Tweets': 'RT @NathanWyburnArt: My @JoeBiden portrait created by stamping the word VOTE! 🇺🇸 \\n\\n#Biden #BidenHarris2020 \\n#Biden2020 #usa🇺🇸 #American #PO…', 'Timestamp': datetime.datetime(2020, 11, 3, 23, 41, 3)}, {'Tweets': 'RT @NathanWyburnArt: My @JoeBiden portrait created by stamping the word VOTE! 🇺🇸 \\n\\n#Biden #BidenHarris2020 \\n#Biden2020 #usa🇺🇸 #American #PO…', 'Timestamp': datetime.datetime(2020, 11, 3, 23, 38, 37)}, {'Tweets': 'RT @NathanWyburnArt: My @JoeBiden portrait created by stamping the word VOTE! 🇺🇸 \\n\\n#Biden #BidenHarris2020 \\n#Biden2020 #usa🇺🇸 #American #PO…', 'Timestamp': datetime.datetime(2020, 11, 3, 23, 37, 12)}, {'Tweets': 'RT @DrIbram: The only people happy tonight are liquor store owners. #PresidentialDebate', 'Timestamp': datetime.datetime(2020, 11, 3, 23, 30, 2)}, {'Tweets': 'RT @NathanWyburnArt: My @JoeBiden portrait created by stamping the word VOTE! 🇺🇸 \\n\\n#Biden #BidenHarris2020 \\n#Biden2020 #usa🇺🇸 #American #PO…', 'Timestamp': datetime.datetime(2020, 11, 3, 23, 14, 10)}, {'Tweets': 'RT @atugman978: BOOBS! :-P Now that i have your attention go out and vote! It’s important! If you need a ride to your local voting center p…', 'Timestamp': datetime.datetime(2020, 11, 3, 23, 13, 5)}, {'Tweets': 'RT @NathanWyburnArt: My @JoeBiden portrait created by stamping the word VOTE! 🇺🇸 \\n\\n#Biden #BidenHarris2020 \\n#Biden2020 #usa🇺🇸 #American #PO…', 'Timestamp': datetime.datetime(2020, 11, 3, 23, 11, 26)}, {'Tweets': 'BOOBS! :-P Now that i have your attention go out and vote! It’s important! If you need a ride to your local voting… https://t.co/pSQw9lwHKt', 'Timestamp': datetime.datetime(2020, 11, 3, 23, 10, 19)}, {'Tweets': 'RT @Obieze__: Shortlet!!!\\n3bed (parkview) for your gatherings \\n#shortlet #PresidentialDebate #FIFA21Soundtrack #DearNeo https://t.co/6NH4OW…', 'Timestamp': datetime.datetime(2020, 11, 3, 22, 55, 13)}, {'Tweets': 'RT @NathanWyburnArt: My @JoeBiden portrait created by stamping the word VOTE! 🇺🇸 \\n\\n#Biden #BidenHarris2020 \\n#Biden2020 #usa🇺🇸 #American #PO…', 'Timestamp': datetime.datetime(2020, 11, 3, 22, 49, 18)}, {'Tweets': 'RT @itsJohnWalsh: #Trump and #Biden in the Final #PresidentialDebate 🤣 BINGO he said #malarkey 😂 #DebateTonight #Debatenight #debates #Rudy…', 'Timestamp': datetime.datetime(2020, 11, 3, 22, 46, 27)}, {'Tweets': 'RT @LaToniqueMedia: SPECIAL REPORT: The Last #PresidentialDebate (Part 1)\\n\\n📲 https://t.co/kTJPXrm0xg\\n\\n#BidenHarris2020 #Trump2020 #VOTE #20…', 'Timestamp': datetime.datetime(2020, 11, 3, 22, 37)}, {'Tweets': 'RT @NathanWyburnArt: My @JoeBiden portrait created by stamping the word VOTE! 🇺🇸 \\n\\n#Biden #BidenHarris2020 \\n#Biden2020 #usa🇺🇸 #American #PO…', 'Timestamp': datetime.datetime(2020, 11, 3, 22, 31, 58)}, {'Tweets': \"Best moments in presidential debate history. &lt;summarising video&gt;\\nIn addition, there are some debates from 80's in y… https://t.co/mdjsiPMzgL\", 'Timestamp': datetime.datetime(2020, 11, 3, 22, 29, 41)}, {'Tweets': 'RT @NathanWyburnArt: My @JoeBiden portrait created by stamping the word VOTE! 🇺🇸 \\n\\n#Biden #BidenHarris2020 \\n#Biden2020 #usa🇺🇸 #American #PO…', 'Timestamp': datetime.datetime(2020, 11, 3, 22, 25, 27)}, {'Tweets': 'RT @NathanWyburnArt: My @JoeBiden portrait created by stamping the word VOTE! 🇺🇸 \\n\\n#Biden #BidenHarris2020 \\n#Biden2020 #usa🇺🇸 #American #PO…', 'Timestamp': datetime.datetime(2020, 11, 3, 22, 18, 42)}, {'Tweets': 'RT @madheidimovie: A message from Kommandant Knorr to the U.S. 🇺🇸\\n\\n#madheidi #madheidimovie #USA #USElections2020  #JoeBiden #DonaldTrump #…', 'Timestamp': datetime.datetime(2020, 11, 3, 22, 18, 28)}, {'Tweets': 'RT @the_qtcumber: Going live on twitch soon! Come join the fun group of the internet! https://t.co/NVQbgj0dhw\\n#twitch #twitchstreamer #Live…', 'Timestamp': datetime.datetime(2020, 11, 3, 22, 13)}, {'Tweets': 'Going live on twitch soon! Come join the fun group of the internet! https://t.co/NVQbgj0dhw\\n#twitch #twitchstreamer… https://t.co/nOGD4PskDj', 'Timestamp': datetime.datetime(2020, 11, 3, 22, 11, 19)}, {'Tweets': 'RT @NathanWyburnArt: My @JoeBiden portrait created by stamping the word VOTE! 🇺🇸 \\n\\n#Biden #BidenHarris2020 \\n#Biden2020 #usa🇺🇸 #American #PO…', 'Timestamp': datetime.datetime(2020, 11, 3, 22, 8, 52)}, {'Tweets': 'RT @NathanWyburnArt: My @JoeBiden portrait created by stamping the word VOTE! 🇺🇸 \\n\\n#Biden #BidenHarris2020 \\n#Biden2020 #usa🇺🇸 #American #PO…', 'Timestamp': datetime.datetime(2020, 11, 3, 22, 7, 42)}, {'Tweets': 'RT @madheidimovie: A message from Kommandant Knorr to the U.S. 🇺🇸\\n\\n#madheidi #madheidimovie #USA #USElections2020  #JoeBiden #DonaldTrump #…', 'Timestamp': datetime.datetime(2020, 11, 3, 22, 4, 51)}, {'Tweets': 'RT @madheidimovie: A message from Kommandant Knorr to the U.S. 🇺🇸\\n\\n#madheidi #madheidimovie #USA #USElections2020  #JoeBiden #DonaldTrump #…', 'Timestamp': datetime.datetime(2020, 11, 3, 21, 49, 41)}, {'Tweets': 'RT @madheidimovie: A message from Kommandant Knorr to the U.S. 🇺🇸\\n\\n#madheidi #madheidimovie #USA #USElections2020  #JoeBiden #DonaldTrump #…', 'Timestamp': datetime.datetime(2020, 11, 3, 21, 2, 3)}, {'Tweets': 'RT @RitaCosby: Great #Debate and some very memorable, substantive exchanges!!! Who do YOU think won this last #PresidentialDebate2020 and W…', 'Timestamp': datetime.datetime(2020, 11, 3, 20, 45, 9)}, {'Tweets': 'RT @madheidimovie: A message from Kommandant Knorr to the U.S. 🇺🇸\\n\\n#madheidi #madheidimovie #USA #USElections2020  #JoeBiden #DonaldTrump #…', 'Timestamp': datetime.datetime(2020, 11, 3, 20, 44, 19)}, {'Tweets': 'PSA‼️🇺🇸✝️ Some put they trust in man.. Others put they trust in money.. I put my trust in God. #presidentialdebate… https://t.co/wRlVMmxCS4', 'Timestamp': datetime.datetime(2020, 11, 3, 20, 28, 25)}, {'Tweets': 'RT @NathanWyburnArt: My @JoeBiden portrait created by stamping the word VOTE! 🇺🇸 \\n\\n#Biden #BidenHarris2020 \\n#Biden2020 #usa🇺🇸 #American #PO…', 'Timestamp': datetime.datetime(2020, 11, 3, 20, 28, 12)}, {'Tweets': 'RT @sef_pod: Need a break from #Election2020? Want to learn about the history of political campaigns, debate, &amp; promises? Listen to our new…', 'Timestamp': datetime.datetime(2020, 11, 3, 20, 26, 35)}, {'Tweets': 'RT @sef_pod: Need a break from #Election2020? Want to learn about the history of political campaigns, debate, &amp; promises? Listen to our new…', 'Timestamp': datetime.datetime(2020, 11, 3, 20, 24, 31)}, {'Tweets': 'Need a break from #Election2020? Want to learn about the history of political campaigns, debate, &amp; promises? Listen… https://t.co/5B0L16IEgA', 'Timestamp': datetime.datetime(2020, 11, 3, 19, 55, 31)}, {'Tweets': 'RT @dylanminnette: hey trump supporters, how does it feel to support a literal fucking toddler? i’m so embarrassed for you. #PresidentialDe…', 'Timestamp': datetime.datetime(2020, 11, 3, 19, 53, 26)}, {'Tweets': 'RT @madheidimovie: A message from Kommandant Knorr to the U.S. 🇺🇸\\n\\n#madheidi #madheidimovie #USA #USElections2020  #JoeBiden #DonaldTrump #…', 'Timestamp': datetime.datetime(2020, 11, 3, 19, 47, 45)}, {'Tweets': 'RT @madheidimovie: A message from Kommandant Knorr to the U.S. 🇺🇸\\n\\n#madheidi #madheidimovie #USA #USElections2020  #JoeBiden #DonaldTrump #…', 'Timestamp': datetime.datetime(2020, 11, 3, 19, 46, 9)}, {'Tweets': 'RT @saharzaman: #Repost @MirrorNow\\n• • • • • •\\nWhat do the #USElection2020 mean for India?\\n\\nWatch continuous coverage on #USElections, Tomo…', 'Timestamp': datetime.datetime(2020, 11, 3, 18, 47, 45)}, {'Tweets': 'RT @MirrorNow: What do the #USElection2020 mean for India?\\n\\nWatch continuous coverage on #USElections, Tomorrow, 5:30 AM onwards on MIRROR…', 'Timestamp': datetime.datetime(2020, 11, 3, 18, 41)}, {'Tweets': \"RT @Mediavenir: 🇪🇺 Médias: la #France est le 2e pays d'#Europe se sentant le moins informé sur les affaires européennes. Dernier exemple en…\", 'Timestamp': datetime.datetime(2020, 11, 3, 18, 40, 57)}, {'Tweets': 'RT @NathanWyburnArt: My @JoeBiden portrait created by stamping the word VOTE! 🇺🇸 \\n\\n#Biden #BidenHarris2020 \\n#Biden2020 #usa🇺🇸 #American #PO…', 'Timestamp': datetime.datetime(2020, 11, 3, 18, 40, 10)}, {'Tweets': 'RT @saharzaman: #Repost @MirrorNow\\n• • • • • •\\nWhat do the #USElection2020 mean for India?\\n\\nWatch continuous coverage on #USElections, Tomo…', 'Timestamp': datetime.datetime(2020, 11, 3, 18, 37, 23)}, {'Tweets': '#Repost @MirrorNow\\n• • • • • •\\nWhat do the #USElection2020 mean for India?\\n\\nWatch continuous coverage on… https://t.co/spzJSZIJTC', 'Timestamp': datetime.datetime(2020, 11, 3, 18, 35, 47)}, {'Tweets': 'What do the #USElection2020 mean for India?\\n\\nWatch continuous coverage on #USElections, Tomorrow, 5:30 AM onwards o… https://t.co/UgYvalU73o', 'Timestamp': datetime.datetime(2020, 11, 3, 17, 48, 33)}, {'Tweets': 'RT @NathanWyburnArt: My @JoeBiden portrait created by stamping the word VOTE! 🇺🇸 \\n\\n#Biden #BidenHarris2020 \\n#Biden2020 #usa🇺🇸 #American #PO…', 'Timestamp': datetime.datetime(2020, 11, 3, 17, 25, 58)}, {'Tweets': 'RT @NathanWyburnArt: My @JoeBiden portrait created by stamping the word VOTE! 🇺🇸 \\n\\n#Biden #BidenHarris2020 \\n#Biden2020 #usa🇺🇸 #American #PO…', 'Timestamp': datetime.datetime(2020, 11, 3, 16, 58, 45)}, {'Tweets': 'RT @NathanWyburnArt: My @JoeBiden portrait created by stamping the word VOTE! 🇺🇸 \\n\\n#Biden #BidenHarris2020 \\n#Biden2020 #usa🇺🇸 #American #PO…', 'Timestamp': datetime.datetime(2020, 11, 3, 16, 53, 41)}, {'Tweets': 'RT @AarontheWise: In honor of the #2020Election , here’s my favorite political joke from #FamilyGuy that involved #GeorgeBush Jr. #Presiden…', 'Timestamp': datetime.datetime(2020, 11, 3, 16, 47, 38)}, {'Tweets': 'We bring you the most informative debate of all time between Dallyn and Cody as they discuss the most important non… https://t.co/cevlujDGtt', 'Timestamp': datetime.datetime(2020, 11, 3, 15, 45)}, {'Tweets': 'RT @NathanWyburnArt: My @JoeBiden portrait created by stamping the word VOTE! 🇺🇸 \\n\\n#Biden #BidenHarris2020 \\n#Biden2020 #usa🇺🇸 #American #PO…', 'Timestamp': datetime.datetime(2020, 11, 3, 15, 36, 27)}, {'Tweets': 'A message from Kommandant Knorr to the U.S. 🇺🇸\\n\\n#madheidi #madheidimovie #USA #USElections2020  #JoeBiden… https://t.co/tqKmeaWLeX', 'Timestamp': datetime.datetime(2020, 11, 3, 15, 34, 6)}, {'Tweets': 'RT @TelemundoNews: 🇺🇸 ¿Quién va ganando el #PrimerDebate presidencial?\\n\\n#PresidentialDebate2020 #PresidentialDebate #Decision2020', 'Timestamp': datetime.datetime(2020, 11, 3, 15, 31, 18)}, {'Tweets': 'RT @NathanWyburnArt: My @JoeBiden portrait created by stamping the word VOTE! 🇺🇸 \\n\\n#Biden #BidenHarris2020 \\n#Biden2020 #usa🇺🇸 #American #PO…', 'Timestamp': datetime.datetime(2020, 11, 3, 14, 39, 34)}, {'Tweets': \"RT @DrGJackBrown: FACT: Trump was high, during the debate, when he accused Biden's son of drug use.\\n\\n#PresidentialDebate #TrumpsPupils \\n\\nht…\", 'Timestamp': datetime.datetime(2020, 11, 3, 14, 26, 59)}, {'Tweets': 'RT @NathanWyburnArt: My @JoeBiden portrait created by stamping the word VOTE! 🇺🇸 \\n\\n#Biden #BidenHarris2020 \\n#Biden2020 #usa🇺🇸 #American #PO…', 'Timestamp': datetime.datetime(2020, 11, 3, 14, 6, 37)}, {'Tweets': 'RT @mscontagious561: Get out and vote. https://t.co/gpVRRfXomO  #jadesimmons #VOTE  #PresidentialDebate', 'Timestamp': datetime.datetime(2020, 11, 3, 13, 58, 22)}, {'Tweets': 'RT @NathanWyburnArt: My @JoeBiden portrait created by stamping the word VOTE! 🇺🇸 \\n\\n#Biden #BidenHarris2020 \\n#Biden2020 #usa🇺🇸 #American #PO…', 'Timestamp': datetime.datetime(2020, 11, 3, 13, 58, 16)}, {'Tweets': 'RT @NathanWyburnArt: My @JoeBiden portrait created by stamping the word VOTE! 🇺🇸 \\n\\n#Biden #BidenHarris2020 \\n#Biden2020 #usa🇺🇸 #American #PO…', 'Timestamp': datetime.datetime(2020, 11, 3, 13, 48, 53)}, {'Tweets': 'In honor of the #2020Election , here’s my favorite political joke from #FamilyGuy that involved #GeorgeBush Jr.… https://t.co/r5WAqPwYYL', 'Timestamp': datetime.datetime(2020, 11, 3, 13, 38, 28)}, {'Tweets': 'RT @jeffkagan: #PresidentialDebate suggestion. Let both candidates ask each other key questions, not the moderator. Then give them a few mi…', 'Timestamp': datetime.datetime(2020, 11, 3, 13, 7, 14)}, {'Tweets': 'Pour qui vous aller vote 🗳 who are you going to vote for 🗳 ?? @realDonaldTrump @JoeBiden?? @CNN @CNNFrancePR… https://t.co/fs2EzWb1R3', 'Timestamp': datetime.datetime(2020, 11, 3, 12, 59, 24)}, {'Tweets': 'Lines are huge for voting before the sun even came up! \\n\\nToday we make history!!!\\n\\nVOTE!!\\n\\n#Vote #Election… https://t.co/dxoTLdNkVt', 'Timestamp': datetime.datetime(2020, 11, 3, 12, 11)}, {'Tweets': 'RT @NathanWyburnArt: My @JoeBiden portrait created by stamping the word VOTE! 🇺🇸 \\n\\n#Biden #BidenHarris2020 \\n#Biden2020 #usa🇺🇸 #American #PO…', 'Timestamp': datetime.datetime(2020, 11, 3, 11, 37, 16)}, {'Tweets': 'RT @NathanWyburnArt: My @JoeBiden portrait created by stamping the word VOTE! 🇺🇸 \\n\\n#Biden #BidenHarris2020 \\n#Biden2020 #usa🇺🇸 #American #PO…', 'Timestamp': datetime.datetime(2020, 11, 3, 11, 9, 17)}, {'Tweets': 'RT @WSjp_insight: 1st US #PresidentialDebate 09/29/2020 - hosted by cwru &amp; ClevelandClinic\\n🇺🇸#Debates2020 #COVID19 \\nhttps://t.co/65GKfg68lP…', 'Timestamp': datetime.datetime(2020, 11, 3, 10, 46, 1)}, {'Tweets': 'RT @WSjp_insight: 1st US #PresidentialDebate 09/29/2020\\n🇺🇸#Debates2020 #TrumpBidenDebate\\nhttps://t.co/DfBnubTidB\\nPBS,NewsHour CBSNews NBCPo…', 'Timestamp': datetime.datetime(2020, 11, 3, 10, 14, 10)}, {'Tweets': 'Uganda under @HEBobiwine as president !\\n\\n#BobiWineNomination  #BobiWineNominated #BobiwineforPresident… https://t.co/aHe7O0gTFi', 'Timestamp': datetime.datetime(2020, 11, 3, 10, 10, 10)}, {'Tweets': 'RT @NathanWyburnArt: My @JoeBiden portrait created by stamping the word VOTE! 🇺🇸 \\n\\n#Biden #BidenHarris2020 \\n#Biden2020 #usa🇺🇸 #American #PO…', 'Timestamp': datetime.datetime(2020, 11, 3, 9, 58, 7)}, {'Tweets': \"RT @MaverickGamersX: I don't know about y'all but I cannot WAIT to see Trump get muted during tonight's virtual debate as well as the tantr…\", 'Timestamp': datetime.datetime(2020, 11, 3, 9, 39, 38)}, {'Tweets': 'RT @NathanWyburnArt: My @JoeBiden portrait created by stamping the word VOTE! 🇺🇸 \\n\\n#Biden #BidenHarris2020 \\n#Biden2020 #usa🇺🇸 #American #PO…', 'Timestamp': datetime.datetime(2020, 11, 3, 9, 29, 54)}, {'Tweets': 'RT @satishacharya: Filthy India, says Donald Trump! #PresidentialDebate #DonaldTrump https://t.co/SPYcUScJzD', 'Timestamp': datetime.datetime(2020, 11, 3, 9, 29, 52)}, {'Tweets': 'RT @AmarUjalaNews: अमेरिकी राष्ट्रपति चुनाव में ट्रंप और बिडेन के बीच जीत का अंतर कम, ताजा पोल में दावा\\n#American\\n#America\\n#PresidentialDeb…', 'Timestamp': datetime.datetime(2020, 11, 3, 9, 17, 20)}, {'Tweets': 'RT @dylanminnette: hey trump supporters, how does it feel to support a literal fucking toddler? i’m so embarrassed for you. #PresidentialDe…', 'Timestamp': datetime.datetime(2020, 11, 3, 8, 41, 17)}, {'Tweets': 'RT @AmarUjalaNews: अमेरिकी राष्ट्रपति चुनाव में ट्रंप और बिडेन के बीच जीत का अंतर कम, ताजा पोल में दावा\\n#American\\n#America\\n#PresidentialDeb…', 'Timestamp': datetime.datetime(2020, 11, 3, 8, 28, 4)}, {'Tweets': 'RT @AmarUjalaNews: अमेरिकी राष्ट्रपति चुनाव में ट्रंप और बिडेन के बीच जीत का अंतर कम, ताजा पोल में दावा\\n#American\\n#America\\n#PresidentialDeb…', 'Timestamp': datetime.datetime(2020, 11, 3, 8, 23, 34)}, {'Tweets': 'RT @AmarUjalaNews: अमेरिकी राष्ट्रपति चुनाव में ट्रंप और बिडेन के बीच जीत का अंतर कम, ताजा पोल में दावा\\n#American\\n#America\\n#PresidentialDeb…', 'Timestamp': datetime.datetime(2020, 11, 3, 8, 23, 3)}, {'Tweets': 'RT @AmarUjalaNews: अमेरिकी राष्ट्रपति चुनाव में ट्रंप और बिडेन के बीच जीत का अंतर कम, ताजा पोल में दावा\\n#American\\n#America\\n#PresidentialDeb…', 'Timestamp': datetime.datetime(2020, 11, 3, 8, 13, 25)}, {'Tweets': 'RT @AmarUjalaNews: अमेरिकी राष्ट्रपति चुनाव में ट्रंप और बिडेन के बीच जीत का अंतर कम, ताजा पोल में दावा\\n#American\\n#America\\n#PresidentialDeb…', 'Timestamp': datetime.datetime(2020, 11, 3, 8, 13, 16)}, {'Tweets': 'अमेरिकी राष्ट्रपति चुनाव में ट्रंप और बिडेन के बीच जीत का अंतर कम, ताजा पोल में दावा\\n#American\\n#America… https://t.co/9nRb8jCgaj', 'Timestamp': datetime.datetime(2020, 11, 3, 8, 12, 31)}, {'Tweets': \"RT @DrGJackBrown: Trump's Pupils are dilated to 6.5 mm in his right eye and 6.0 mm in his left eye. This fits Trump's pattern of long-term,…\", 'Timestamp': datetime.datetime(2020, 11, 3, 7, 43, 1)}, {'Tweets': 'RT @satishacharya: Filthy India, says Donald Trump! #PresidentialDebate #DonaldTrump https://t.co/SPYcUScJzD', 'Timestamp': datetime.datetime(2020, 11, 3, 7, 42, 46)}, {'Tweets': 'RT @NathanWyburnArt: My @JoeBiden portrait created by stamping the word VOTE! 🇺🇸 \\n\\n#Biden #BidenHarris2020 \\n#Biden2020 #usa🇺🇸 #American #PO…', 'Timestamp': datetime.datetime(2020, 11, 3, 7, 18, 56)}, {'Tweets': \"RT @DrGJackBrown: Trump's Pupils are dilated to 6.5 mm in his right eye and 6.0 mm in his left eye. This fits Trump's pattern of long-term,…\", 'Timestamp': datetime.datetime(2020, 11, 3, 7, 18, 32)}, {'Tweets': 'Are we going to have a #PresidentialDebate?\\n#UGPresNominations #UgandaDecides2021            #Uganda', 'Timestamp': datetime.datetime(2020, 11, 3, 7, 17, 37)}, {'Tweets': \"RT @WSjp_insight: 1st US #PresidentialDebate'16 excerpts.. https://t.co/IAxalj6Gxi @bencasselman @MelbInstUOM,@LaurenRosewarne,@Government_…\", 'Timestamp': datetime.datetime(2020, 11, 3, 7, 13, 26)}, {'Tweets': \"RT @DrGJackBrown: Trump's Pupils are dilated to 6.5 mm in his right eye and 6.0 mm in his left eye. This fits Trump's pattern of long-term,…\", 'Timestamp': datetime.datetime(2020, 11, 3, 7, 12, 5)}, {'Tweets': \"RT @DrGJackBrown: Trump's Pupils are dilated to 6.5 mm in his right eye and 6.0 mm in his left eye. This fits Trump's pattern of long-term,…\", 'Timestamp': datetime.datetime(2020, 11, 3, 7, 9, 36)}, {'Tweets': 'RT @Doctor_GAM: @AOC  \\n@AyannaPressley \\n@IlhanMN \\n@RashidaTlaib  \\n\\n🙈 🙊 🙉 🐵 🐒\\n#PresidentialDebate \\n😑 😑 😑 😑 😑', 'Timestamp': datetime.datetime(2020, 11, 3, 6, 42, 30)}, {'Tweets': 'VOTE! VOTE! VOTE!\\n\\n#Vote #Election #Elections #Elections2020 #voter #voting2020 #iwillvote #USA #Democracy… https://t.co/2umb4CAwFm', 'Timestamp': datetime.datetime(2020, 11, 3, 6, 27, 24)}, {'Tweets': 'RT @NathanWyburnArt: My @JoeBiden portrait created by stamping the word VOTE! 🇺🇸 \\n\\n#Biden #BidenHarris2020 \\n#Biden2020 #usa🇺🇸 #American #PO…', 'Timestamp': datetime.datetime(2020, 11, 3, 6, 18, 17)}, {'Tweets': '🤩 @PasqualeRotella para presidente 🤗 \\n\\n#vote #PresidentialDebate #Election2020 #ElectionDay #VoteResponsibly… https://t.co/7WcW8fe5RR', 'Timestamp': datetime.datetime(2020, 11, 3, 6, 4, 48)}, {'Tweets': '@AmandaSeitz @APFactCheck Why are they trying to find dirt on @JoeBiden ...there is nothing there. Run along people… https://t.co/1YyoqrvON5', 'Timestamp': datetime.datetime(2020, 11, 3, 5, 51, 29)}, {'Tweets': 'RT @dylanminnette: hey trump supporters, how does it feel to support a literal fucking toddler? i’m so embarrassed for you. #PresidentialDe…', 'Timestamp': datetime.datetime(2020, 11, 3, 5, 48, 34)}, {'Tweets': 'A better look at who you are as a voter and citizen in the government youre living in.\\n\\n#Election2020 #ElectionDay… https://t.co/IEy9iivQYs', 'Timestamp': datetime.datetime(2020, 11, 3, 5, 41, 5)}, {'Tweets': 'What is the difference between Republican and Democrat? \\n\\nUnderstanding the difference between communism and social… https://t.co/O2gkMjEF7s', 'Timestamp': datetime.datetime(2020, 11, 3, 5, 27, 2)}, {'Tweets': 'RT @NathanWyburnArt: My @JoeBiden portrait created by stamping the word VOTE! 🇺🇸 \\n\\n#Biden #BidenHarris2020 \\n#Biden2020 #usa🇺🇸 #American #PO…', 'Timestamp': datetime.datetime(2020, 11, 3, 5, 17, 20)}, {'Tweets': 'What is the difference between Republican and Democrat? Where are you on here?\\n\\n#Election2020 #ElectionDay… https://t.co/vw9jKF830G', 'Timestamp': datetime.datetime(2020, 11, 3, 5, 14, 39)}, {'Tweets': 'RT @tulchy: Welcome to #2020 where our stamina is measured not by sex, but by our ability to watch a #PresidentialDebate.\\n\\n#PresidentialDeb…', 'Timestamp': datetime.datetime(2020, 11, 3, 4, 59, 37)}, {'Tweets': 'RT @gypsyfootprints: Oh damn ! Trump just trashed Philly! #Philly #PresidentialDebate #Debate2020 \\nI’m sure #chriswallace wants to smash hi…', 'Timestamp': datetime.datetime(2020, 11, 3, 4, 43, 46)}, {'Tweets': \"RT @AJCongress: Prepare for tonight's #PresidentialDebate. \\n\\nCheck out @JoeBiden's profile on the Jewish Guide to U.S. Politics 👇\\n\\nhttps://…\", 'Timestamp': datetime.datetime(2020, 11, 3, 4, 22, 51)}, {'Tweets': \"RT @AJCongress: The second and last #PresidentialDebate starts in less than three hours. \\n\\nHave you checked President @realDonaldTrump's pr…\", 'Timestamp': datetime.datetime(2020, 11, 3, 4, 22, 29)}, {'Tweets': '#TalkTexasOil #permianlandgirl #talkmidconoil #fossilfuelfridays #GetOutTheVote #USElections2020 #Usa2020… https://t.co/acV2QQhMGW', 'Timestamp': datetime.datetime(2020, 11, 3, 3, 55, 58)}, {'Tweets': '#TalkTexasOil #permianlandgirl #talkmidconoil #fossilfuelfridays #GetOutTheVote #USElections2020 #Usa2020… https://t.co/tGARloWwOt', 'Timestamp': datetime.datetime(2020, 11, 3, 3, 55, 49)}, {'Tweets': '#TalkTexasOil #permianlandgirl #talkmidconoil #fossilfuelfridays #GetOutTheVote #USElections2020 #Usa2020… https://t.co/d3Blf18chI', 'Timestamp': datetime.datetime(2020, 11, 3, 3, 55, 41)}, {'Tweets': 'RT @DankThe1st: This was a total shit show...... #Debates2020 #PresidentialDebate #Debate2020 #debates #Election2020', 'Timestamp': datetime.datetime(2020, 11, 3, 3, 50, 14)}, {'Tweets': 'Don’t forget how bias the left is. The media will do whatever they can to take down the republicans. But they will… https://t.co/bWpBh1M2r6', 'Timestamp': datetime.datetime(2020, 11, 3, 3, 48, 39)}, {'Tweets': 'RT @cateash: Just for anyone falling for Trump’s weak argument insulin is cheaper... my latest refill was $974.89. #PresidentialDebate #Deb…', 'Timestamp': datetime.datetime(2020, 11, 3, 3, 26, 5)}, {'Tweets': 'RT @NathanWyburnArt: My @JoeBiden portrait created by stamping the word VOTE! 🇺🇸 \\n\\n#Biden #BidenHarris2020 \\n#Biden2020 #usa🇺🇸 #American #PO…', 'Timestamp': datetime.datetime(2020, 11, 3, 2, 49, 10)}, {'Tweets': 'RT @NathanWyburnArt: My @JoeBiden portrait created by stamping the word VOTE! 🇺🇸 \\n\\n#Biden #BidenHarris2020 \\n#Biden2020 #usa🇺🇸 #American #PO…', 'Timestamp': datetime.datetime(2020, 11, 3, 2, 42, 7)}, {'Tweets': 'RT @gypsyfootprints: Oh damn ! Trump just trashed Philly! #Philly #PresidentialDebate #Debate2020 \\nI’m sure #chriswallace wants to smash hi…', 'Timestamp': datetime.datetime(2020, 11, 3, 2, 20, 58)}, {'Tweets': 'Acaba de terminar de cantar @ladygaga para el cierre de campaña. ¿La viste? \\n\\n#ladygaga #Biden #PresidentialDebate', 'Timestamp': datetime.datetime(2020, 11, 3, 2, 1, 33)}, {'Tweets': '#USElection #Trump2020LandslideVictory #TrumpCovid19 #MAGA #TRUMP #TrumpLandslide #TrumpCovid19 #Trump2020… https://t.co/CiJAKu96Bg', 'Timestamp': datetime.datetime(2020, 11, 3, 2, 1, 30)}, {'Tweets': 'RT @NathanWyburnArt: My @JoeBiden portrait created by stamping the word VOTE! 🇺🇸 \\n\\n#Biden #BidenHarris2020 \\n#Biden2020 #usa🇺🇸 #American #PO…', 'Timestamp': datetime.datetime(2020, 11, 3, 1, 51, 40)}, {'Tweets': \".@KimKardashian, \\n@taylorswift13 called. She said to tell #Kanye he's cutting his #PresidentialDebate kinda close t… https://t.co/QQob3EnD1B\", 'Timestamp': datetime.datetime(2020, 11, 3, 1, 1, 48)}, {'Tweets': 'RT @MATTHARDYBRAND: This hasn’t been quite presidential - It’s probably closer to a pro wrestling promo. #Debate2020 #PresidentialDebate', 'Timestamp': datetime.datetime(2020, 11, 3, 0, 53, 53)}, {'Tweets': 'RT @NathanWyburnArt: My @JoeBiden portrait created by stamping the word VOTE! 🇺🇸 \\n\\n#Biden #BidenHarris2020 \\n#Biden2020 #usa🇺🇸 #American #PO…', 'Timestamp': datetime.datetime(2020, 11, 3, 0, 35, 47)}, {'Tweets': 'RT @dylanminnette: everyone, @realDonaldTrump just refused to condemn white supremacists on live television. he literally refused to say it…', 'Timestamp': datetime.datetime(2020, 11, 3, 0, 24, 43)}, {'Tweets': '#presidentialdebate #Matilda #TomSawyer #RoaldDahl #MarkTwain #skitsandgiggles #wormwood2020 https://t.co/JaNghkwTlW', 'Timestamp': datetime.datetime(2020, 11, 3, 0, 23, 49)}, {'Tweets': '#presidentialdebate #Matilda #TomSawyer #RoaldDahl #MarkTwain #skitsandgiggles https://t.co/qBle3Hn2mI', 'Timestamp': datetime.datetime(2020, 11, 3, 0, 19, 41)}, {'Tweets': 'I am so nervous for tomorrow #PresidentialDebate #Election2020 #2020Elections #USAElections2020', 'Timestamp': datetime.datetime(2020, 11, 2, 23, 13, 34)}]\n"
     ]
    }
   ],
   "source": [
    "hashtag = '#presidentialdebate'\n",
    "query = tw.Cursor(api.search, q=hashtag).items(1000)\n",
    "tweets = [{'Tweets': tweet.text, 'Timestamp': tweet.created_at} for tweet in query]\n",
    "print(tweets)"
   ]
  },
  {
   "cell_type": "code",
   "execution_count": 48,
   "metadata": {},
   "outputs": [
    {
     "data": {
      "text/html": [
       "<div>\n",
       "<style scoped>\n",
       "    .dataframe tbody tr th:only-of-type {\n",
       "        vertical-align: middle;\n",
       "    }\n",
       "\n",
       "    .dataframe tbody tr th {\n",
       "        vertical-align: top;\n",
       "    }\n",
       "\n",
       "    .dataframe thead th {\n",
       "        text-align: right;\n",
       "    }\n",
       "</style>\n",
       "<table border=\"1\" class=\"dataframe\">\n",
       "  <thead>\n",
       "    <tr style=\"text-align: right;\">\n",
       "      <th></th>\n",
       "      <th>Tweets</th>\n",
       "      <th>Timestamp</th>\n",
       "    </tr>\n",
       "  </thead>\n",
       "  <tbody>\n",
       "    <tr>\n",
       "      <th>0</th>\n",
       "      <td>RT @RealButterShow: Run Zombie RUN! The Butter...</td>\n",
       "      <td>2020-11-11 19:46:53</td>\n",
       "    </tr>\n",
       "    <tr>\n",
       "      <th>1</th>\n",
       "      <td>Not all the ballots have been counted and ther...</td>\n",
       "      <td>2020-11-11 18:12:03</td>\n",
       "    </tr>\n",
       "    <tr>\n",
       "      <th>2</th>\n",
       "      <td>You Specifically Said in the 1st #Presidential...</td>\n",
       "      <td>2020-11-11 15:11:12</td>\n",
       "    </tr>\n",
       "    <tr>\n",
       "      <th>3</th>\n",
       "      <td>&amp;amp; what did u said during the #Presidential...</td>\n",
       "      <td>2020-11-11 12:03:11</td>\n",
       "    </tr>\n",
       "    <tr>\n",
       "      <th>4</th>\n",
       "      <td>RT @Matt_VanDyke: I heard great things about #...</td>\n",
       "      <td>2020-11-11 11:25:44</td>\n",
       "    </tr>\n",
       "  </tbody>\n",
       "</table>\n",
       "</div>"
      ],
      "text/plain": [
       "                                              Tweets           Timestamp\n",
       "0  RT @RealButterShow: Run Zombie RUN! The Butter... 2020-11-11 19:46:53\n",
       "1  Not all the ballots have been counted and ther... 2020-11-11 18:12:03\n",
       "2  You Specifically Said in the 1st #Presidential... 2020-11-11 15:11:12\n",
       "3  &amp; what did u said during the #Presidential... 2020-11-11 12:03:11\n",
       "4  RT @Matt_VanDyke: I heard great things about #... 2020-11-11 11:25:44"
      ]
     },
     "execution_count": 48,
     "metadata": {},
     "output_type": "execute_result"
    }
   ],
   "source": [
    "df = pd.DataFrame.from_dict(tweets)\n",
    "df.head()"
   ]
  },
  {
   "cell_type": "code",
   "execution_count": 51,
   "metadata": {},
   "outputs": [],
   "source": [
    "trump_refs = ['DonaldTrump', 'Donald Trump', 'Donald', 'Trump', 'Trump\\'s']\n",
    "biden_refs = ['JoeBiden', 'Joe Biden', 'Joe', 'Biden', 'Biden\\'s']"
   ]
  },
  {
   "cell_type": "code",
   "execution_count": 52,
   "metadata": {},
   "outputs": [],
   "source": [
    "# want to indicate if the tweet mentions biden or trump\n",
    "def identify_subject(tweet, refs):\n",
    "    flag = 0\n",
    "    for ref in refs:\n",
    "        if tweet.find(ref) != -1:\n",
    "            flag = 1\n",
    "    return flag\n",
    "\n",
    "df['Trump'] = df['Tweets'].apply(lambda x: identify_subject(x, trump_refs))\n",
    "df['Biden'] = df['Tweets'].apply(lambda x: identify_subject(x, biden_refs))"
   ]
  },
  {
   "cell_type": "code",
   "execution_count": 53,
   "metadata": {},
   "outputs": [
    {
     "data": {
      "text/html": [
       "<div>\n",
       "<style scoped>\n",
       "    .dataframe tbody tr th:only-of-type {\n",
       "        vertical-align: middle;\n",
       "    }\n",
       "\n",
       "    .dataframe tbody tr th {\n",
       "        vertical-align: top;\n",
       "    }\n",
       "\n",
       "    .dataframe thead th {\n",
       "        text-align: right;\n",
       "    }\n",
       "</style>\n",
       "<table border=\"1\" class=\"dataframe\">\n",
       "  <thead>\n",
       "    <tr style=\"text-align: right;\">\n",
       "      <th></th>\n",
       "      <th>Tweets</th>\n",
       "      <th>Timestamp</th>\n",
       "      <th>Trump</th>\n",
       "      <th>Biden</th>\n",
       "    </tr>\n",
       "  </thead>\n",
       "  <tbody>\n",
       "    <tr>\n",
       "      <th>0</th>\n",
       "      <td>RT @RealButterShow: Run Zombie RUN! The Butter...</td>\n",
       "      <td>2020-11-11 19:46:53</td>\n",
       "      <td>0</td>\n",
       "      <td>0</td>\n",
       "    </tr>\n",
       "    <tr>\n",
       "      <th>1</th>\n",
       "      <td>Not all the ballots have been counted and ther...</td>\n",
       "      <td>2020-11-11 18:12:03</td>\n",
       "      <td>0</td>\n",
       "      <td>0</td>\n",
       "    </tr>\n",
       "    <tr>\n",
       "      <th>2</th>\n",
       "      <td>You Specifically Said in the 1st #Presidential...</td>\n",
       "      <td>2020-11-11 15:11:12</td>\n",
       "      <td>1</td>\n",
       "      <td>0</td>\n",
       "    </tr>\n",
       "    <tr>\n",
       "      <th>3</th>\n",
       "      <td>&amp;amp; what did u said during the #Presidential...</td>\n",
       "      <td>2020-11-11 12:03:11</td>\n",
       "      <td>1</td>\n",
       "      <td>1</td>\n",
       "    </tr>\n",
       "    <tr>\n",
       "      <th>4</th>\n",
       "      <td>RT @Matt_VanDyke: I heard great things about #...</td>\n",
       "      <td>2020-11-11 11:25:44</td>\n",
       "      <td>0</td>\n",
       "      <td>0</td>\n",
       "    </tr>\n",
       "  </tbody>\n",
       "</table>\n",
       "</div>"
      ],
      "text/plain": [
       "                                              Tweets           Timestamp  \\\n",
       "0  RT @RealButterShow: Run Zombie RUN! The Butter... 2020-11-11 19:46:53   \n",
       "1  Not all the ballots have been counted and ther... 2020-11-11 18:12:03   \n",
       "2  You Specifically Said in the 1st #Presidential... 2020-11-11 15:11:12   \n",
       "3  &amp; what did u said during the #Presidential... 2020-11-11 12:03:11   \n",
       "4  RT @Matt_VanDyke: I heard great things about #... 2020-11-11 11:25:44   \n",
       "\n",
       "   Trump  Biden  \n",
       "0      0      0  \n",
       "1      0      0  \n",
       "2      1      0  \n",
       "3      1      1  \n",
       "4      0      0  "
      ]
     },
     "execution_count": 53,
     "metadata": {},
     "output_type": "execute_result"
    }
   ],
   "source": [
    "df.head()"
   ]
  },
  {
   "cell_type": "code",
   "execution_count": 54,
   "metadata": {
    "scrolled": false
   },
   "outputs": [
    {
     "data": {
      "text/html": [
       "<div>\n",
       "<style scoped>\n",
       "    .dataframe tbody tr th:only-of-type {\n",
       "        vertical-align: middle;\n",
       "    }\n",
       "\n",
       "    .dataframe tbody tr th {\n",
       "        vertical-align: top;\n",
       "    }\n",
       "\n",
       "    .dataframe thead th {\n",
       "        text-align: right;\n",
       "    }\n",
       "</style>\n",
       "<table border=\"1\" class=\"dataframe\">\n",
       "  <thead>\n",
       "    <tr style=\"text-align: right;\">\n",
       "      <th></th>\n",
       "      <th>Tweets</th>\n",
       "      <th>Timestamp</th>\n",
       "      <th>Trump</th>\n",
       "      <th>Biden</th>\n",
       "    </tr>\n",
       "  </thead>\n",
       "  <tbody>\n",
       "    <tr>\n",
       "      <th>3</th>\n",
       "      <td>&amp;amp; what did u said during the #Presidential...</td>\n",
       "      <td>2020-11-11 12:03:11</td>\n",
       "      <td>1</td>\n",
       "      <td>1</td>\n",
       "    </tr>\n",
       "    <tr>\n",
       "      <th>5</th>\n",
       "      <td>RT @nbctracie: What’s it like being poor in Tr...</td>\n",
       "      <td>2020-11-11 11:22:01</td>\n",
       "      <td>1</td>\n",
       "      <td>1</td>\n",
       "    </tr>\n",
       "    <tr>\n",
       "      <th>6</th>\n",
       "      <td>RT @TheAffinityMag: Biden and Trump fighting o...</td>\n",
       "      <td>2020-11-11 06:35:49</td>\n",
       "      <td>1</td>\n",
       "      <td>1</td>\n",
       "    </tr>\n",
       "    <tr>\n",
       "      <th>9</th>\n",
       "      <td>RT @JonahBlank: An hour until the #Presidentia...</td>\n",
       "      <td>2020-11-11 03:18:20</td>\n",
       "      <td>0</td>\n",
       "      <td>1</td>\n",
       "    </tr>\n",
       "    <tr>\n",
       "      <th>10</th>\n",
       "      <td>Si vous deviez choisir vous souhaité voir qui ...</td>\n",
       "      <td>2020-11-10 23:12:37</td>\n",
       "      <td>1</td>\n",
       "      <td>1</td>\n",
       "    </tr>\n",
       "    <tr>\n",
       "      <th>...</th>\n",
       "      <td>...</td>\n",
       "      <td>...</td>\n",
       "      <td>...</td>\n",
       "      <td>...</td>\n",
       "    </tr>\n",
       "    <tr>\n",
       "      <th>414</th>\n",
       "      <td>RT @NathanWyburnArt: My @JoeBiden portrait cre...</td>\n",
       "      <td>2020-11-03 02:49:10</td>\n",
       "      <td>0</td>\n",
       "      <td>1</td>\n",
       "    </tr>\n",
       "    <tr>\n",
       "      <th>415</th>\n",
       "      <td>RT @NathanWyburnArt: My @JoeBiden portrait cre...</td>\n",
       "      <td>2020-11-03 02:42:07</td>\n",
       "      <td>0</td>\n",
       "      <td>1</td>\n",
       "    </tr>\n",
       "    <tr>\n",
       "      <th>417</th>\n",
       "      <td>Acaba de terminar de cantar @ladygaga para el ...</td>\n",
       "      <td>2020-11-03 02:01:33</td>\n",
       "      <td>0</td>\n",
       "      <td>1</td>\n",
       "    </tr>\n",
       "    <tr>\n",
       "      <th>419</th>\n",
       "      <td>RT @NathanWyburnArt: My @JoeBiden portrait cre...</td>\n",
       "      <td>2020-11-03 01:51:40</td>\n",
       "      <td>0</td>\n",
       "      <td>1</td>\n",
       "    </tr>\n",
       "    <tr>\n",
       "      <th>422</th>\n",
       "      <td>RT @NathanWyburnArt: My @JoeBiden portrait cre...</td>\n",
       "      <td>2020-11-03 00:35:47</td>\n",
       "      <td>0</td>\n",
       "      <td>1</td>\n",
       "    </tr>\n",
       "  </tbody>\n",
       "</table>\n",
       "<p>139 rows × 4 columns</p>\n",
       "</div>"
      ],
      "text/plain": [
       "                                                Tweets           Timestamp  \\\n",
       "3    &amp; what did u said during the #Presidential... 2020-11-11 12:03:11   \n",
       "5    RT @nbctracie: What’s it like being poor in Tr... 2020-11-11 11:22:01   \n",
       "6    RT @TheAffinityMag: Biden and Trump fighting o... 2020-11-11 06:35:49   \n",
       "9    RT @JonahBlank: An hour until the #Presidentia... 2020-11-11 03:18:20   \n",
       "10   Si vous deviez choisir vous souhaité voir qui ... 2020-11-10 23:12:37   \n",
       "..                                                 ...                 ...   \n",
       "414  RT @NathanWyburnArt: My @JoeBiden portrait cre... 2020-11-03 02:49:10   \n",
       "415  RT @NathanWyburnArt: My @JoeBiden portrait cre... 2020-11-03 02:42:07   \n",
       "417  Acaba de terminar de cantar @ladygaga para el ... 2020-11-03 02:01:33   \n",
       "419  RT @NathanWyburnArt: My @JoeBiden portrait cre... 2020-11-03 01:51:40   \n",
       "422  RT @NathanWyburnArt: My @JoeBiden portrait cre... 2020-11-03 00:35:47   \n",
       "\n",
       "     Trump  Biden  \n",
       "3        1      1  \n",
       "5        1      1  \n",
       "6        1      1  \n",
       "9        0      1  \n",
       "10       1      1  \n",
       "..     ...    ...  \n",
       "414      0      1  \n",
       "415      0      1  \n",
       "417      0      1  \n",
       "419      0      1  \n",
       "422      0      1  \n",
       "\n",
       "[139 rows x 4 columns]"
      ]
     },
     "execution_count": 54,
     "metadata": {},
     "output_type": "execute_result"
    }
   ],
   "source": [
    "df[df['Biden'] == 1]"
   ]
  },
  {
   "cell_type": "code",
   "execution_count": 55,
   "metadata": {},
   "outputs": [
    {
     "data": {
      "text/html": [
       "<div>\n",
       "<style scoped>\n",
       "    .dataframe tbody tr th:only-of-type {\n",
       "        vertical-align: middle;\n",
       "    }\n",
       "\n",
       "    .dataframe tbody tr th {\n",
       "        vertical-align: top;\n",
       "    }\n",
       "\n",
       "    .dataframe thead th {\n",
       "        text-align: right;\n",
       "    }\n",
       "</style>\n",
       "<table border=\"1\" class=\"dataframe\">\n",
       "  <thead>\n",
       "    <tr style=\"text-align: right;\">\n",
       "      <th></th>\n",
       "      <th>Tweets</th>\n",
       "      <th>Timestamp</th>\n",
       "      <th>Trump</th>\n",
       "      <th>Biden</th>\n",
       "    </tr>\n",
       "  </thead>\n",
       "  <tbody>\n",
       "    <tr>\n",
       "      <th>2</th>\n",
       "      <td>You Specifically Said in the 1st #Presidential...</td>\n",
       "      <td>2020-11-11 15:11:12</td>\n",
       "      <td>1</td>\n",
       "      <td>0</td>\n",
       "    </tr>\n",
       "    <tr>\n",
       "      <th>3</th>\n",
       "      <td>&amp;amp; what did u said during the #Presidential...</td>\n",
       "      <td>2020-11-11 12:03:11</td>\n",
       "      <td>1</td>\n",
       "      <td>1</td>\n",
       "    </tr>\n",
       "    <tr>\n",
       "      <th>5</th>\n",
       "      <td>RT @nbctracie: What’s it like being poor in Tr...</td>\n",
       "      <td>2020-11-11 11:22:01</td>\n",
       "      <td>1</td>\n",
       "      <td>1</td>\n",
       "    </tr>\n",
       "    <tr>\n",
       "      <th>6</th>\n",
       "      <td>RT @TheAffinityMag: Biden and Trump fighting o...</td>\n",
       "      <td>2020-11-11 06:35:49</td>\n",
       "      <td>1</td>\n",
       "      <td>1</td>\n",
       "    </tr>\n",
       "    <tr>\n",
       "      <th>10</th>\n",
       "      <td>Si vous deviez choisir vous souhaité voir qui ...</td>\n",
       "      <td>2020-11-10 23:12:37</td>\n",
       "      <td>1</td>\n",
       "      <td>1</td>\n",
       "    </tr>\n",
       "    <tr>\n",
       "      <th>...</th>\n",
       "      <td>...</td>\n",
       "      <td>...</td>\n",
       "      <td>...</td>\n",
       "      <td>...</td>\n",
       "    </tr>\n",
       "    <tr>\n",
       "      <th>407</th>\n",
       "      <td>RT @AJCongress: The second and last #President...</td>\n",
       "      <td>2020-11-03 04:22:29</td>\n",
       "      <td>1</td>\n",
       "      <td>0</td>\n",
       "    </tr>\n",
       "    <tr>\n",
       "      <th>413</th>\n",
       "      <td>RT @cateash: Just for anyone falling for Trump...</td>\n",
       "      <td>2020-11-03 03:26:05</td>\n",
       "      <td>1</td>\n",
       "      <td>0</td>\n",
       "    </tr>\n",
       "    <tr>\n",
       "      <th>416</th>\n",
       "      <td>RT @gypsyfootprints: Oh damn ! Trump just tras...</td>\n",
       "      <td>2020-11-03 02:20:58</td>\n",
       "      <td>1</td>\n",
       "      <td>0</td>\n",
       "    </tr>\n",
       "    <tr>\n",
       "      <th>418</th>\n",
       "      <td>#USElection #Trump2020LandslideVictory #TrumpC...</td>\n",
       "      <td>2020-11-03 02:01:30</td>\n",
       "      <td>1</td>\n",
       "      <td>0</td>\n",
       "    </tr>\n",
       "    <tr>\n",
       "      <th>423</th>\n",
       "      <td>RT @dylanminnette: everyone, @realDonaldTrump ...</td>\n",
       "      <td>2020-11-03 00:24:43</td>\n",
       "      <td>1</td>\n",
       "      <td>0</td>\n",
       "    </tr>\n",
       "  </tbody>\n",
       "</table>\n",
       "<p>99 rows × 4 columns</p>\n",
       "</div>"
      ],
      "text/plain": [
       "                                                Tweets           Timestamp  \\\n",
       "2    You Specifically Said in the 1st #Presidential... 2020-11-11 15:11:12   \n",
       "3    &amp; what did u said during the #Presidential... 2020-11-11 12:03:11   \n",
       "5    RT @nbctracie: What’s it like being poor in Tr... 2020-11-11 11:22:01   \n",
       "6    RT @TheAffinityMag: Biden and Trump fighting o... 2020-11-11 06:35:49   \n",
       "10   Si vous deviez choisir vous souhaité voir qui ... 2020-11-10 23:12:37   \n",
       "..                                                 ...                 ...   \n",
       "407  RT @AJCongress: The second and last #President... 2020-11-03 04:22:29   \n",
       "413  RT @cateash: Just for anyone falling for Trump... 2020-11-03 03:26:05   \n",
       "416  RT @gypsyfootprints: Oh damn ! Trump just tras... 2020-11-03 02:20:58   \n",
       "418  #USElection #Trump2020LandslideVictory #TrumpC... 2020-11-03 02:01:30   \n",
       "423  RT @dylanminnette: everyone, @realDonaldTrump ... 2020-11-03 00:24:43   \n",
       "\n",
       "     Trump  Biden  \n",
       "2        1      0  \n",
       "3        1      1  \n",
       "5        1      1  \n",
       "6        1      1  \n",
       "10       1      1  \n",
       "..     ...    ...  \n",
       "407      1      0  \n",
       "413      1      0  \n",
       "416      1      0  \n",
       "418      1      0  \n",
       "423      1      0  \n",
       "\n",
       "[99 rows x 4 columns]"
      ]
     },
     "execution_count": 55,
     "metadata": {},
     "output_type": "execute_result"
    }
   ],
   "source": [
    "df[df['Trump'] ==1]"
   ]
  },
  {
   "cell_type": "markdown",
   "metadata": {},
   "source": [
    "## Preprocess"
   ]
  },
  {
   "cell_type": "code",
   "execution_count": 21,
   "metadata": {
    "collapsed": true
   },
   "outputs": [
    {
     "ename": "SyntaxError",
     "evalue": "invalid syntax (<ipython-input-21-183b04c4ea59>, line 1)",
     "output_type": "error",
     "traceback": [
      "\u001b[0;36m  File \u001b[0;32m\"<ipython-input-21-183b04c4ea59>\"\u001b[0;36m, line \u001b[0;32m1\u001b[0m\n\u001b[0;31m    pip install nltk\u001b[0m\n\u001b[0m        ^\u001b[0m\n\u001b[0;31mSyntaxError\u001b[0m\u001b[0;31m:\u001b[0m invalid syntax\n"
     ]
    }
   ],
   "source": [
    "pip install nltk"
   ]
  },
  {
   "cell_type": "code",
   "execution_count": 22,
   "metadata": {
    "collapsed": true
   },
   "outputs": [
    {
     "name": "stdout",
     "output_type": "stream",
     "text": [
      "Collecting textblob\n",
      "  Downloading textblob-0.15.3-py2.py3-none-any.whl (636 kB)\n",
      "\u001b[K     |████████████████████████████████| 636 kB 712 kB/s eta 0:00:01\n",
      "\u001b[?25hRequirement already satisfied: nltk>=3.1 in /usr/local/lib/python3.8/site-packages (from textblob) (3.5)\n",
      "Requirement already satisfied: tqdm in /usr/local/lib/python3.8/site-packages (from nltk>=3.1->textblob) (4.51.0)\n",
      "Requirement already satisfied: click in /usr/local/lib/python3.8/site-packages (from nltk>=3.1->textblob) (7.1.2)\n",
      "Requirement already satisfied: joblib in /usr/local/lib/python3.8/site-packages (from nltk>=3.1->textblob) (0.16.0)\n",
      "Requirement already satisfied: regex in /usr/local/lib/python3.8/site-packages (from nltk>=3.1->textblob) (2020.11.11)\n",
      "Installing collected packages: textblob\n",
      "Successfully installed textblob-0.15.3\n",
      "Note: you may need to restart the kernel to use updated packages.\n"
     ]
    }
   ],
   "source": [
    "pip install textblob"
   ]
  },
  {
   "cell_type": "code",
   "execution_count": 56,
   "metadata": {},
   "outputs": [],
   "source": [
    "import nltk\n",
    "from nltk.corpus import stopwords\n",
    "from textblob import Word, TextBlob"
   ]
  },
  {
   "cell_type": "code",
   "execution_count": 57,
   "metadata": {},
   "outputs": [
    {
     "name": "stderr",
     "output_type": "stream",
     "text": [
      "[nltk_data] Downloading package stopwords to\n",
      "[nltk_data]     /Users/joshtan/nltk_data...\n",
      "[nltk_data]   Package stopwords is already up-to-date!\n",
      "[nltk_data] Downloading package wordnet to /Users/joshtan/nltk_data...\n",
      "[nltk_data]   Package wordnet is already up-to-date!\n"
     ]
    }
   ],
   "source": [
    "nltk.download('stopwords')\n",
    "nltk.download('wordnet')\n",
    "stop_words = stopwords.words('english')\n",
    "custom_stopwords = ['RT', '#PresidentialDebate']"
   ]
  },
  {
   "cell_type": "code",
   "execution_count": 58,
   "metadata": {},
   "outputs": [
    {
     "data": {
      "text/html": [
       "<div>\n",
       "<style scoped>\n",
       "    .dataframe tbody tr th:only-of-type {\n",
       "        vertical-align: middle;\n",
       "    }\n",
       "\n",
       "    .dataframe tbody tr th {\n",
       "        vertical-align: top;\n",
       "    }\n",
       "\n",
       "    .dataframe thead th {\n",
       "        text-align: right;\n",
       "    }\n",
       "</style>\n",
       "<table border=\"1\" class=\"dataframe\">\n",
       "  <thead>\n",
       "    <tr style=\"text-align: right;\">\n",
       "      <th></th>\n",
       "      <th>Tweets</th>\n",
       "      <th>Timestamp</th>\n",
       "      <th>Trump</th>\n",
       "      <th>Biden</th>\n",
       "      <th>Processed Tweet</th>\n",
       "    </tr>\n",
       "  </thead>\n",
       "  <tbody>\n",
       "    <tr>\n",
       "      <th>0</th>\n",
       "      <td>RT @RealButterShow: Run Zombie RUN! The Butter...</td>\n",
       "      <td>2020-11-11 19:46:53</td>\n",
       "      <td>0</td>\n",
       "      <td>0</td>\n",
       "      <td>@RealButterShow: Run Zombie RUN! The Buttercas...</td>\n",
       "    </tr>\n",
       "    <tr>\n",
       "      <th>1</th>\n",
       "      <td>Not all the ballots have been counted and ther...</td>\n",
       "      <td>2020-11-11 18:12:03</td>\n",
       "      <td>0</td>\n",
       "      <td>0</td>\n",
       "      <td>Not ballot counted still case heard court. #20...</td>\n",
       "    </tr>\n",
       "    <tr>\n",
       "      <th>2</th>\n",
       "      <td>You Specifically Said in the 1st #Presidential...</td>\n",
       "      <td>2020-11-11 15:11:12</td>\n",
       "      <td>1</td>\n",
       "      <td>0</td>\n",
       "      <td>You Specifically Said 1st @realDonaldTrump “Mi...</td>\n",
       "    </tr>\n",
       "    <tr>\n",
       "      <th>3</th>\n",
       "      <td>&amp;amp; what did u said during the #Presidential...</td>\n",
       "      <td>2020-11-11 12:03:11</td>\n",
       "      <td>1</td>\n",
       "      <td>1</td>\n",
       "      <td>&amp;amp; u said @realDonaldTrump ?? @JoeBiden @Ka...</td>\n",
       "    </tr>\n",
       "    <tr>\n",
       "      <th>4</th>\n",
       "      <td>RT @Matt_VanDyke: I heard great things about #...</td>\n",
       "      <td>2020-11-11 11:25:44</td>\n",
       "      <td>0</td>\n",
       "      <td>0</td>\n",
       "      <td>@Matt_VanDyke: I heard great thing #KristenWel...</td>\n",
       "    </tr>\n",
       "  </tbody>\n",
       "</table>\n",
       "</div>"
      ],
      "text/plain": [
       "                                              Tweets           Timestamp  \\\n",
       "0  RT @RealButterShow: Run Zombie RUN! The Butter... 2020-11-11 19:46:53   \n",
       "1  Not all the ballots have been counted and ther... 2020-11-11 18:12:03   \n",
       "2  You Specifically Said in the 1st #Presidential... 2020-11-11 15:11:12   \n",
       "3  &amp; what did u said during the #Presidential... 2020-11-11 12:03:11   \n",
       "4  RT @Matt_VanDyke: I heard great things about #... 2020-11-11 11:25:44   \n",
       "\n",
       "   Trump  Biden                                    Processed Tweet  \n",
       "0      0      0  @RealButterShow: Run Zombie RUN! The Buttercas...  \n",
       "1      0      0  Not ballot counted still case heard court. #20...  \n",
       "2      1      0  You Specifically Said 1st @realDonaldTrump “Mi...  \n",
       "3      1      1  &amp; u said @realDonaldTrump ?? @JoeBiden @Ka...  \n",
       "4      0      0  @Matt_VanDyke: I heard great thing #KristenWel...  "
      ]
     },
     "execution_count": 58,
     "metadata": {},
     "output_type": "execute_result"
    }
   ],
   "source": [
    "def preprocess_tweets(tweet, custom_stopwords):\n",
    "    preprocessed_tweet = tweet\n",
    "    preprocessed_tweet.replace('[^\\w\\s]', '') # remove punctuation\n",
    "    preprocessed_tweet = \" \".join(word for word in preprocessed_tweet.split() if word not in stop_words)\n",
    "    preprocessed_tweet = \" \".join(word for word in preprocessed_tweet.split() if word not in custom_stopwords)\n",
    "    preprocessed_tweet = \" \".join(Word(word).lemmatize() for word in preprocessed_tweet.split())\n",
    "    return(preprocessed_tweet) # take the words and reduce to base form\n",
    "\n",
    "df['Processed Tweet'] = df['Tweets'].apply(lambda x: preprocess_tweets(x, custom_stopwords))\n",
    "df.head()"
   ]
  },
  {
   "cell_type": "markdown",
   "metadata": {},
   "source": [
    "## Calculate Sentiment"
   ]
  },
  {
   "cell_type": "code",
   "execution_count": 61,
   "metadata": {},
   "outputs": [],
   "source": [
    "# polarity - how pos/neg something is.\n",
    "# subjectivitiy - how much emotion it is based on, how obj / subj it is.\n",
    "\n",
    "df['Polarity'] = df['Processed Tweet'].apply(lambda x: TextBlob(x).sentiment[0])\n",
    "df['Subjectivity'] = df['Processed Tweet'].apply(lambda x: TextBlob(x).sentiment[1])"
   ]
  },
  {
   "cell_type": "code",
   "execution_count": 62,
   "metadata": {},
   "outputs": [
    {
     "data": {
      "text/html": [
       "<div>\n",
       "<style scoped>\n",
       "    .dataframe tbody tr th:only-of-type {\n",
       "        vertical-align: middle;\n",
       "    }\n",
       "\n",
       "    .dataframe tbody tr th {\n",
       "        vertical-align: top;\n",
       "    }\n",
       "\n",
       "    .dataframe thead th {\n",
       "        text-align: right;\n",
       "    }\n",
       "</style>\n",
       "<table border=\"1\" class=\"dataframe\">\n",
       "  <thead>\n",
       "    <tr style=\"text-align: right;\">\n",
       "      <th></th>\n",
       "      <th>Tweets</th>\n",
       "      <th>Timestamp</th>\n",
       "      <th>Trump</th>\n",
       "      <th>Biden</th>\n",
       "      <th>Processed Tweet</th>\n",
       "      <th>Polarity</th>\n",
       "      <th>Subjectivity</th>\n",
       "    </tr>\n",
       "  </thead>\n",
       "  <tbody>\n",
       "    <tr>\n",
       "      <th>0</th>\n",
       "      <td>RT @RealButterShow: Run Zombie RUN! The Butter...</td>\n",
       "      <td>2020-11-11 19:46:53</td>\n",
       "      <td>0</td>\n",
       "      <td>0</td>\n",
       "      <td>@RealButterShow: Run Zombie RUN! The Buttercas...</td>\n",
       "      <td>0.35</td>\n",
       "      <td>0.550000</td>\n",
       "    </tr>\n",
       "    <tr>\n",
       "      <th>1</th>\n",
       "      <td>Not all the ballots have been counted and ther...</td>\n",
       "      <td>2020-11-11 18:12:03</td>\n",
       "      <td>0</td>\n",
       "      <td>0</td>\n",
       "      <td>Not ballot counted still case heard court. #20...</td>\n",
       "      <td>0.00</td>\n",
       "      <td>0.000000</td>\n",
       "    </tr>\n",
       "    <tr>\n",
       "      <th>2</th>\n",
       "      <td>You Specifically Said in the 1st #Presidential...</td>\n",
       "      <td>2020-11-11 15:11:12</td>\n",
       "      <td>1</td>\n",
       "      <td>0</td>\n",
       "      <td>You Specifically Said 1st @realDonaldTrump “Mi...</td>\n",
       "      <td>-0.10</td>\n",
       "      <td>0.100000</td>\n",
       "    </tr>\n",
       "    <tr>\n",
       "      <th>3</th>\n",
       "      <td>&amp;amp; what did u said during the #Presidential...</td>\n",
       "      <td>2020-11-11 12:03:11</td>\n",
       "      <td>1</td>\n",
       "      <td>1</td>\n",
       "      <td>&amp;amp; u said @realDonaldTrump ?? @JoeBiden @Ka...</td>\n",
       "      <td>0.00</td>\n",
       "      <td>0.000000</td>\n",
       "    </tr>\n",
       "    <tr>\n",
       "      <th>4</th>\n",
       "      <td>RT @Matt_VanDyke: I heard great things about #...</td>\n",
       "      <td>2020-11-11 11:25:44</td>\n",
       "      <td>0</td>\n",
       "      <td>0</td>\n",
       "      <td>@Matt_VanDyke: I heard great thing #KristenWel...</td>\n",
       "      <td>0.40</td>\n",
       "      <td>0.408333</td>\n",
       "    </tr>\n",
       "  </tbody>\n",
       "</table>\n",
       "</div>"
      ],
      "text/plain": [
       "                                              Tweets           Timestamp  \\\n",
       "0  RT @RealButterShow: Run Zombie RUN! The Butter... 2020-11-11 19:46:53   \n",
       "1  Not all the ballots have been counted and ther... 2020-11-11 18:12:03   \n",
       "2  You Specifically Said in the 1st #Presidential... 2020-11-11 15:11:12   \n",
       "3  &amp; what did u said during the #Presidential... 2020-11-11 12:03:11   \n",
       "4  RT @Matt_VanDyke: I heard great things about #... 2020-11-11 11:25:44   \n",
       "\n",
       "   Trump  Biden                                    Processed Tweet  Polarity  \\\n",
       "0      0      0  @RealButterShow: Run Zombie RUN! The Buttercas...      0.35   \n",
       "1      0      0  Not ballot counted still case heard court. #20...      0.00   \n",
       "2      1      0  You Specifically Said 1st @realDonaldTrump “Mi...     -0.10   \n",
       "3      1      1  &amp; u said @realDonaldTrump ?? @JoeBiden @Ka...      0.00   \n",
       "4      0      0  @Matt_VanDyke: I heard great thing #KristenWel...      0.40   \n",
       "\n",
       "   Subjectivity  \n",
       "0      0.550000  \n",
       "1      0.000000  \n",
       "2      0.100000  \n",
       "3      0.000000  \n",
       "4      0.408333  "
      ]
     },
     "execution_count": 62,
     "metadata": {},
     "output_type": "execute_result"
    }
   ],
   "source": [
    "df.head()"
   ]
  },
  {
   "cell_type": "code",
   "execution_count": 63,
   "metadata": {},
   "outputs": [
    {
     "data": {
      "text/html": [
       "<div>\n",
       "<style scoped>\n",
       "    .dataframe tbody tr th:only-of-type {\n",
       "        vertical-align: middle;\n",
       "    }\n",
       "\n",
       "    .dataframe tbody tr th {\n",
       "        vertical-align: top;\n",
       "    }\n",
       "\n",
       "    .dataframe thead tr th {\n",
       "        text-align: left;\n",
       "    }\n",
       "\n",
       "    .dataframe thead tr:last-of-type th {\n",
       "        text-align: right;\n",
       "    }\n",
       "</style>\n",
       "<table border=\"1\" class=\"dataframe\">\n",
       "  <thead>\n",
       "    <tr>\n",
       "      <th></th>\n",
       "      <th colspan=\"4\" halign=\"left\">Polarity</th>\n",
       "      <th colspan=\"4\" halign=\"left\">Subjectivity</th>\n",
       "    </tr>\n",
       "    <tr>\n",
       "      <th></th>\n",
       "      <th>mean</th>\n",
       "      <th>amax</th>\n",
       "      <th>amin</th>\n",
       "      <th>median</th>\n",
       "      <th>mean</th>\n",
       "      <th>amax</th>\n",
       "      <th>amin</th>\n",
       "      <th>median</th>\n",
       "    </tr>\n",
       "    <tr>\n",
       "      <th>Trump</th>\n",
       "      <th></th>\n",
       "      <th></th>\n",
       "      <th></th>\n",
       "      <th></th>\n",
       "      <th></th>\n",
       "      <th></th>\n",
       "      <th></th>\n",
       "      <th></th>\n",
       "    </tr>\n",
       "  </thead>\n",
       "  <tbody>\n",
       "    <tr>\n",
       "      <th>1</th>\n",
       "      <td>0.060023</td>\n",
       "      <td>0.8</td>\n",
       "      <td>-1.0</td>\n",
       "      <td>0.0</td>\n",
       "      <td>0.27653</td>\n",
       "      <td>1.0</td>\n",
       "      <td>0.0</td>\n",
       "      <td>0.3</td>\n",
       "    </tr>\n",
       "  </tbody>\n",
       "</table>\n",
       "</div>"
      ],
      "text/plain": [
       "       Polarity                  Subjectivity                 \n",
       "           mean amax amin median         mean amax amin median\n",
       "Trump                                                         \n",
       "1      0.060023  0.8 -1.0    0.0      0.27653  1.0  0.0    0.3"
      ]
     },
     "metadata": {},
     "output_type": "display_data"
    },
    {
     "data": {
      "text/html": [
       "<div>\n",
       "<style scoped>\n",
       "    .dataframe tbody tr th:only-of-type {\n",
       "        vertical-align: middle;\n",
       "    }\n",
       "\n",
       "    .dataframe tbody tr th {\n",
       "        vertical-align: top;\n",
       "    }\n",
       "\n",
       "    .dataframe thead tr th {\n",
       "        text-align: left;\n",
       "    }\n",
       "\n",
       "    .dataframe thead tr:last-of-type th {\n",
       "        text-align: right;\n",
       "    }\n",
       "</style>\n",
       "<table border=\"1\" class=\"dataframe\">\n",
       "  <thead>\n",
       "    <tr>\n",
       "      <th></th>\n",
       "      <th colspan=\"4\" halign=\"left\">Polarity</th>\n",
       "      <th colspan=\"4\" halign=\"left\">Subjectivity</th>\n",
       "    </tr>\n",
       "    <tr>\n",
       "      <th></th>\n",
       "      <th>mean</th>\n",
       "      <th>amax</th>\n",
       "      <th>amin</th>\n",
       "      <th>median</th>\n",
       "      <th>mean</th>\n",
       "      <th>amax</th>\n",
       "      <th>amin</th>\n",
       "      <th>median</th>\n",
       "    </tr>\n",
       "    <tr>\n",
       "      <th>Biden</th>\n",
       "      <th></th>\n",
       "      <th></th>\n",
       "      <th></th>\n",
       "      <th></th>\n",
       "      <th></th>\n",
       "      <th></th>\n",
       "      <th></th>\n",
       "      <th></th>\n",
       "    </tr>\n",
       "  </thead>\n",
       "  <tbody>\n",
       "    <tr>\n",
       "      <th>1</th>\n",
       "      <td>0.000918</td>\n",
       "      <td>0.8</td>\n",
       "      <td>-1.0</td>\n",
       "      <td>0.0</td>\n",
       "      <td>0.104876</td>\n",
       "      <td>1.0</td>\n",
       "      <td>0.0</td>\n",
       "      <td>0.0</td>\n",
       "    </tr>\n",
       "  </tbody>\n",
       "</table>\n",
       "</div>"
      ],
      "text/plain": [
       "       Polarity                  Subjectivity                 \n",
       "           mean amax amin median         mean amax amin median\n",
       "Biden                                                         \n",
       "1      0.000918  0.8 -1.0    0.0     0.104876  1.0  0.0    0.0"
      ]
     },
     "metadata": {},
     "output_type": "display_data"
    }
   ],
   "source": [
    "# aggregate stats\n",
    "display(df[df['Trump'] == 1][['Trump', 'Polarity', 'Subjectivity']].groupby('Trump').agg([np.mean, np.max, np.min, np.median]))\n",
    "display(df[df['Biden'] == 1][['Biden', 'Polarity', 'Subjectivity']].groupby('Biden').agg([np.mean, np.max, np.min, np.median]))"
   ]
  },
  {
   "cell_type": "code",
   "execution_count": 39,
   "metadata": {},
   "outputs": [],
   "source": [
    "# Subjectivity close to 1 means more subjective"
   ]
  },
  {
   "cell_type": "markdown",
   "metadata": {},
   "source": [
    "## Visualize"
   ]
  },
  {
   "cell_type": "code",
   "execution_count": 64,
   "metadata": {},
   "outputs": [],
   "source": [
    "biden = df[df['Biden'] == 1][['Timestamp', 'Polarity']]\n",
    "biden = biden.sort_values(by='Timestamp', ascending=True)\n",
    "biden['MA Polarity'] = biden.Polarity.rolling(10, min_periods=3).mean()\n",
    "\n",
    "trump = df[df['Trump'] == 1][['Timestamp', 'Polarity']]\n",
    "trump = trump.sort_values(by='Timestamp', ascending=True)\n",
    "trump['MA Polarity'] = trump.Polarity.rolling(10, min_periods=3).mean()"
   ]
  },
  {
   "cell_type": "code",
   "execution_count": 65,
   "metadata": {},
   "outputs": [
    {
     "data": {
      "text/html": [
       "<div>\n",
       "<style scoped>\n",
       "    .dataframe tbody tr th:only-of-type {\n",
       "        vertical-align: middle;\n",
       "    }\n",
       "\n",
       "    .dataframe tbody tr th {\n",
       "        vertical-align: top;\n",
       "    }\n",
       "\n",
       "    .dataframe thead th {\n",
       "        text-align: right;\n",
       "    }\n",
       "</style>\n",
       "<table border=\"1\" class=\"dataframe\">\n",
       "  <thead>\n",
       "    <tr style=\"text-align: right;\">\n",
       "      <th></th>\n",
       "      <th>Timestamp</th>\n",
       "      <th>Polarity</th>\n",
       "      <th>MA Polarity</th>\n",
       "    </tr>\n",
       "  </thead>\n",
       "  <tbody>\n",
       "    <tr>\n",
       "      <th>423</th>\n",
       "      <td>2020-11-03 00:24:43</td>\n",
       "      <td>0.068182</td>\n",
       "      <td>NaN</td>\n",
       "    </tr>\n",
       "    <tr>\n",
       "      <th>418</th>\n",
       "      <td>2020-11-03 02:01:30</td>\n",
       "      <td>0.000000</td>\n",
       "      <td>NaN</td>\n",
       "    </tr>\n",
       "    <tr>\n",
       "      <th>416</th>\n",
       "      <td>2020-11-03 02:20:58</td>\n",
       "      <td>0.500000</td>\n",
       "      <td>0.189394</td>\n",
       "    </tr>\n",
       "    <tr>\n",
       "      <th>413</th>\n",
       "      <td>2020-11-03 03:26:05</td>\n",
       "      <td>0.062500</td>\n",
       "      <td>0.157670</td>\n",
       "    </tr>\n",
       "    <tr>\n",
       "      <th>407</th>\n",
       "      <td>2020-11-03 04:22:29</td>\n",
       "      <td>0.000000</td>\n",
       "      <td>0.126136</td>\n",
       "    </tr>\n",
       "  </tbody>\n",
       "</table>\n",
       "</div>"
      ],
      "text/plain": [
       "              Timestamp  Polarity  MA Polarity\n",
       "423 2020-11-03 00:24:43  0.068182          NaN\n",
       "418 2020-11-03 02:01:30  0.000000          NaN\n",
       "416 2020-11-03 02:20:58  0.500000     0.189394\n",
       "413 2020-11-03 03:26:05  0.062500     0.157670\n",
       "407 2020-11-03 04:22:29  0.000000     0.126136"
      ]
     },
     "execution_count": 65,
     "metadata": {},
     "output_type": "execute_result"
    }
   ],
   "source": [
    "trump.head()"
   ]
  },
  {
   "cell_type": "code",
   "execution_count": 66,
   "metadata": {},
   "outputs": [
    {
     "data": {
      "image/png": "[encoded data removed]",
      "text/plain": [
       "<Figure size 936x720 with 2 Axes>"
      ]
     },
     "metadata": {
      "needs_background": "light"
     },
     "output_type": "display_data"
    }
   ],
   "source": [
    "fig, axes = plt.subplots(2, 1, figsize=(13, 10))\n",
    "\n",
    "axes[0].plot(biden['Timestamp'], biden['MA Polarity'])\n",
    "axes[0].set_title(\"\\n\".join(['Biden 10 Tweet Moving Average Polarity']))\n",
    "\n",
    "axes[1].plot(trump['Timestamp'], trump['MA Polarity'], color ='red')\n",
    "axes[1].set_title(\"\\n\".join(['Trump 10 Tweet Moving Average Polarity']))\n",
    "\n",
    "fig.suptitle('\\n'.join(['Post Presidentail Debate Analysis']), y = 0.98)\n",
    "plt.show()"
   ]
  },
  {
   "cell_type": "markdown",
   "metadata": {},
   "source": []
  }
 ],
 "metadata": {
  "kernelspec": {
   "display_name": "Python 3",
   "language": "python",
   "name": "python3"
  },
  "language_info": {
   "codemirror_mode": {
    "name": "ipython",
    "version": 3
   },
   "file_extension": ".py",
   "mimetype": "text/x-python",
   "name": "python",
   "nbconvert_exporter": "python",
   "pygments_lexer": "ipython3",
   "version": "3.8.5"
  }
 },
 "nbformat": 4,
 "nbformat_minor": 4
}
